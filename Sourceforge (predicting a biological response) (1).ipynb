{
 "cells": [
  {
   "cell_type": "markdown",
   "id": "006abd85",
   "metadata": {},
   "source": [
    "# CHEMICAL REACTIONS IN BIOLOGICAL SYSTEMS "
   ]
  },
  {
   "cell_type": "markdown",
   "id": "8fefab71",
   "metadata": {},
   "source": [
    "<font color='red'>"
   ]
  },
  {
   "cell_type": "markdown",
   "id": "014cd77c",
   "metadata": {},
   "source": [
    "<img src=https://wou.edu/chemistry/files/2018/12/cellular-drug-targets.png alt=\"image info\" />"
   ]
  },
  {
   "cell_type": "markdown",
   "id": "0ee2f5d2",
   "metadata": {},
   "source": [
    "## OBJECTIVE\n",
    "The objective of this task is to build as good a model as possible so as to relate molecular information, to an actual biological response.\n",
    "\n",
    "## DATA\n",
    "* Each row in this dataset represents a molecule. \n",
    "* The first column contains experimental data describing an actual biological response; the molecule was seen to elicit this response (1), or not (0). \n",
    "* The remaining columns represent molecular descriptors (d1 through d1776), these are calculated properties that can capture some of the characteristics of the molecule - for example size, shape, or elemental constitution. \n",
    "* The descriptor matrix has been normalized."
   ]
  },
  {
   "cell_type": "markdown",
   "id": "09814815",
   "metadata": {},
   "source": [
    "#### Importing libraries"
   ]
  },
  {
   "cell_type": "code",
   "execution_count": 46,
   "id": "d48d7fbc",
   "metadata": {},
   "outputs": [
    {
     "name": "stdout",
     "output_type": "stream",
     "text": [
      "import done\n"
     ]
    }
   ],
   "source": [
    "import pandas as pd\n",
    "import numpy as np\n",
    "from matplotlib import pyplot as plt\n",
    "import seaborn as sns\n",
    "\n",
    "from sklearn.naive_bayes import GaussianNB\n",
    "from sklearn.model_selection import train_test_split\n",
    "from sklearn.model_selection import GridSearchCV\n",
    "from sklearn.model_selection import RandomizedSearchCV\n",
    "from sklearn.model_selection import cross_val_score, KFold\n",
    "from sklearn.metrics import confusion_matrix, accuracy_score, classification_report, log_loss\n",
    "from sklearn.cluster import KMeans\n",
    "from sklearn.neighbors import KNeighborsClassifier\n",
    "from sklearn.ensemble import BaggingClassifier, RandomForestClassifier, AdaBoostClassifier, VotingClassifier, GradientBoostingClassifier\n",
    "from sklearn.tree import DecisionTreeClassifier\n",
    "from sklearn.linear_model import LogisticRegression\n",
    "import timeit\n",
    "from sklearn.naive_bayes import MultinomialNB\n",
    "from sklearn.svm import LinearSVC\n",
    "\n",
    "import warnings\n",
    "warnings.filterwarnings(\"ignore\")\n",
    "print('import done')"
   ]
  },
  {
   "cell_type": "code",
   "execution_count": 125,
   "id": "3cb93685",
   "metadata": {},
   "outputs": [
    {
     "data": {
      "text/html": [
       "<div>\n",
       "<style scoped>\n",
       "    .dataframe tbody tr th:only-of-type {\n",
       "        vertical-align: middle;\n",
       "    }\n",
       "\n",
       "    .dataframe tbody tr th {\n",
       "        vertical-align: top;\n",
       "    }\n",
       "\n",
       "    .dataframe thead th {\n",
       "        text-align: right;\n",
       "    }\n",
       "</style>\n",
       "<table border=\"1\" class=\"dataframe\">\n",
       "  <thead>\n",
       "    <tr style=\"text-align: right;\">\n",
       "      <th></th>\n",
       "      <th>Activity</th>\n",
       "      <th>D1</th>\n",
       "      <th>D2</th>\n",
       "      <th>D3</th>\n",
       "      <th>D4</th>\n",
       "      <th>D5</th>\n",
       "      <th>D6</th>\n",
       "      <th>D7</th>\n",
       "      <th>D8</th>\n",
       "      <th>D9</th>\n",
       "      <th>...</th>\n",
       "      <th>D1767</th>\n",
       "      <th>D1768</th>\n",
       "      <th>D1769</th>\n",
       "      <th>D1770</th>\n",
       "      <th>D1771</th>\n",
       "      <th>D1772</th>\n",
       "      <th>D1773</th>\n",
       "      <th>D1774</th>\n",
       "      <th>D1775</th>\n",
       "      <th>D1776</th>\n",
       "    </tr>\n",
       "  </thead>\n",
       "  <tbody>\n",
       "    <tr>\n",
       "      <th>0</th>\n",
       "      <td>1</td>\n",
       "      <td>0.000000</td>\n",
       "      <td>0.497009</td>\n",
       "      <td>0.10</td>\n",
       "      <td>0.0</td>\n",
       "      <td>0.132956</td>\n",
       "      <td>0.678031</td>\n",
       "      <td>0.273166</td>\n",
       "      <td>0.585445</td>\n",
       "      <td>0.743663</td>\n",
       "      <td>...</td>\n",
       "      <td>0</td>\n",
       "      <td>0</td>\n",
       "      <td>0</td>\n",
       "      <td>0</td>\n",
       "      <td>0</td>\n",
       "      <td>0</td>\n",
       "      <td>0</td>\n",
       "      <td>0</td>\n",
       "      <td>0</td>\n",
       "      <td>0</td>\n",
       "    </tr>\n",
       "    <tr>\n",
       "      <th>1</th>\n",
       "      <td>1</td>\n",
       "      <td>0.366667</td>\n",
       "      <td>0.606291</td>\n",
       "      <td>0.05</td>\n",
       "      <td>0.0</td>\n",
       "      <td>0.111209</td>\n",
       "      <td>0.803455</td>\n",
       "      <td>0.106105</td>\n",
       "      <td>0.411754</td>\n",
       "      <td>0.836582</td>\n",
       "      <td>...</td>\n",
       "      <td>1</td>\n",
       "      <td>1</td>\n",
       "      <td>1</td>\n",
       "      <td>1</td>\n",
       "      <td>0</td>\n",
       "      <td>1</td>\n",
       "      <td>0</td>\n",
       "      <td>0</td>\n",
       "      <td>1</td>\n",
       "      <td>0</td>\n",
       "    </tr>\n",
       "    <tr>\n",
       "      <th>2</th>\n",
       "      <td>1</td>\n",
       "      <td>0.033300</td>\n",
       "      <td>0.480124</td>\n",
       "      <td>0.00</td>\n",
       "      <td>0.0</td>\n",
       "      <td>0.209791</td>\n",
       "      <td>0.610350</td>\n",
       "      <td>0.356453</td>\n",
       "      <td>0.517720</td>\n",
       "      <td>0.679051</td>\n",
       "      <td>...</td>\n",
       "      <td>0</td>\n",
       "      <td>0</td>\n",
       "      <td>0</td>\n",
       "      <td>0</td>\n",
       "      <td>0</td>\n",
       "      <td>0</td>\n",
       "      <td>0</td>\n",
       "      <td>0</td>\n",
       "      <td>0</td>\n",
       "      <td>0</td>\n",
       "    </tr>\n",
       "    <tr>\n",
       "      <th>3</th>\n",
       "      <td>1</td>\n",
       "      <td>0.000000</td>\n",
       "      <td>0.538825</td>\n",
       "      <td>0.00</td>\n",
       "      <td>0.5</td>\n",
       "      <td>0.196344</td>\n",
       "      <td>0.724230</td>\n",
       "      <td>0.235606</td>\n",
       "      <td>0.288764</td>\n",
       "      <td>0.805110</td>\n",
       "      <td>...</td>\n",
       "      <td>0</td>\n",
       "      <td>0</td>\n",
       "      <td>0</td>\n",
       "      <td>0</td>\n",
       "      <td>0</td>\n",
       "      <td>0</td>\n",
       "      <td>0</td>\n",
       "      <td>0</td>\n",
       "      <td>0</td>\n",
       "      <td>0</td>\n",
       "    </tr>\n",
       "    <tr>\n",
       "      <th>4</th>\n",
       "      <td>0</td>\n",
       "      <td>0.100000</td>\n",
       "      <td>0.517794</td>\n",
       "      <td>0.00</td>\n",
       "      <td>0.0</td>\n",
       "      <td>0.494734</td>\n",
       "      <td>0.781422</td>\n",
       "      <td>0.154361</td>\n",
       "      <td>0.303809</td>\n",
       "      <td>0.812646</td>\n",
       "      <td>...</td>\n",
       "      <td>0</td>\n",
       "      <td>0</td>\n",
       "      <td>0</td>\n",
       "      <td>0</td>\n",
       "      <td>0</td>\n",
       "      <td>0</td>\n",
       "      <td>0</td>\n",
       "      <td>0</td>\n",
       "      <td>0</td>\n",
       "      <td>0</td>\n",
       "    </tr>\n",
       "  </tbody>\n",
       "</table>\n",
       "<p>5 rows × 1777 columns</p>\n",
       "</div>"
      ],
      "text/plain": [
       "   Activity        D1        D2    D3   D4        D5        D6        D7  \\\n",
       "0         1  0.000000  0.497009  0.10  0.0  0.132956  0.678031  0.273166   \n",
       "1         1  0.366667  0.606291  0.05  0.0  0.111209  0.803455  0.106105   \n",
       "2         1  0.033300  0.480124  0.00  0.0  0.209791  0.610350  0.356453   \n",
       "3         1  0.000000  0.538825  0.00  0.5  0.196344  0.724230  0.235606   \n",
       "4         0  0.100000  0.517794  0.00  0.0  0.494734  0.781422  0.154361   \n",
       "\n",
       "         D8        D9  ...  D1767  D1768  D1769  D1770  D1771  D1772  D1773  \\\n",
       "0  0.585445  0.743663  ...      0      0      0      0      0      0      0   \n",
       "1  0.411754  0.836582  ...      1      1      1      1      0      1      0   \n",
       "2  0.517720  0.679051  ...      0      0      0      0      0      0      0   \n",
       "3  0.288764  0.805110  ...      0      0      0      0      0      0      0   \n",
       "4  0.303809  0.812646  ...      0      0      0      0      0      0      0   \n",
       "\n",
       "   D1774  D1775  D1776  \n",
       "0      0      0      0  \n",
       "1      0      1      0  \n",
       "2      0      0      0  \n",
       "3      0      0      0  \n",
       "4      0      0      0  \n",
       "\n",
       "[5 rows x 1777 columns]"
      ]
     },
     "execution_count": 125,
     "metadata": {},
     "output_type": "execute_result"
    }
   ],
   "source": [
    "df=pd.read_csv('train.csv')\n",
    "df_test=pd.read_csv('test.csv')\n",
    "df.head()"
   ]
  },
  {
   "cell_type": "code",
   "execution_count": 48,
   "id": "60ff8ffd",
   "metadata": {},
   "outputs": [
    {
     "data": {
      "text/plain": [
       "(3751, 1777)"
      ]
     },
     "execution_count": 48,
     "metadata": {},
     "output_type": "execute_result"
    }
   ],
   "source": [
    "df.shape"
   ]
  },
  {
   "cell_type": "markdown",
   "id": "6e0dcf3c",
   "metadata": {},
   "source": [
    "As per the project brief, the dependent variable is the `Activity` column, the remaining columns are the independent variables."
   ]
  },
  {
   "cell_type": "code",
   "execution_count": 49,
   "id": "ee78b8cf",
   "metadata": {},
   "outputs": [
    {
     "data": {
      "text/plain": [
       "Activity    0\n",
       "D1190       0\n",
       "D1189       0\n",
       "D1188       0\n",
       "D1187       0\n",
       "           ..\n",
       "D586        0\n",
       "D585        0\n",
       "D584        0\n",
       "D595        0\n",
       "D1776       0\n",
       "Length: 1777, dtype: int64"
      ]
     },
     "execution_count": 49,
     "metadata": {},
     "output_type": "execute_result"
    }
   ],
   "source": [
    "df.isna().sum().sort_values()"
   ]
  },
  {
   "cell_type": "markdown",
   "id": "05d0b293",
   "metadata": {},
   "source": [
    "The dataset contains no missing values."
   ]
  },
  {
   "cell_type": "markdown",
   "id": "29d84c99",
   "metadata": {},
   "source": [
    "### Exploratory data analysis"
   ]
  },
  {
   "cell_type": "code",
   "execution_count": 50,
   "id": "555e13c6",
   "metadata": {},
   "outputs": [
    {
     "data": {
      "text/html": [
       "<div>\n",
       "<style scoped>\n",
       "    .dataframe tbody tr th:only-of-type {\n",
       "        vertical-align: middle;\n",
       "    }\n",
       "\n",
       "    .dataframe tbody tr th {\n",
       "        vertical-align: top;\n",
       "    }\n",
       "\n",
       "    .dataframe thead th {\n",
       "        text-align: right;\n",
       "    }\n",
       "</style>\n",
       "<table border=\"1\" class=\"dataframe\">\n",
       "  <thead>\n",
       "    <tr style=\"text-align: right;\">\n",
       "      <th></th>\n",
       "      <th>Activity</th>\n",
       "      <th>D1</th>\n",
       "      <th>D2</th>\n",
       "      <th>D3</th>\n",
       "      <th>D4</th>\n",
       "      <th>D5</th>\n",
       "      <th>D6</th>\n",
       "      <th>D7</th>\n",
       "      <th>D8</th>\n",
       "      <th>D9</th>\n",
       "      <th>...</th>\n",
       "      <th>D1767</th>\n",
       "      <th>D1768</th>\n",
       "      <th>D1769</th>\n",
       "      <th>D1770</th>\n",
       "      <th>D1771</th>\n",
       "      <th>D1772</th>\n",
       "      <th>D1773</th>\n",
       "      <th>D1774</th>\n",
       "      <th>D1775</th>\n",
       "      <th>D1776</th>\n",
       "    </tr>\n",
       "  </thead>\n",
       "  <tbody>\n",
       "    <tr>\n",
       "      <th>count</th>\n",
       "      <td>3751.000000</td>\n",
       "      <td>3751.000000</td>\n",
       "      <td>3751.000000</td>\n",
       "      <td>3751.000000</td>\n",
       "      <td>3751.000000</td>\n",
       "      <td>3751.000000</td>\n",
       "      <td>3751.000000</td>\n",
       "      <td>3751.000000</td>\n",
       "      <td>3751.000000</td>\n",
       "      <td>3751.000000</td>\n",
       "      <td>...</td>\n",
       "      <td>3751.000000</td>\n",
       "      <td>3751.000000</td>\n",
       "      <td>3751.000000</td>\n",
       "      <td>3751.000000</td>\n",
       "      <td>3751.000000</td>\n",
       "      <td>3751.000000</td>\n",
       "      <td>3751.000000</td>\n",
       "      <td>3751.000000</td>\n",
       "      <td>3751.000000</td>\n",
       "      <td>3751.000000</td>\n",
       "    </tr>\n",
       "    <tr>\n",
       "      <th>mean</th>\n",
       "      <td>0.542255</td>\n",
       "      <td>0.076948</td>\n",
       "      <td>0.592436</td>\n",
       "      <td>0.068142</td>\n",
       "      <td>0.038990</td>\n",
       "      <td>0.212112</td>\n",
       "      <td>0.686653</td>\n",
       "      <td>0.274713</td>\n",
       "      <td>0.455133</td>\n",
       "      <td>0.749517</td>\n",
       "      <td>...</td>\n",
       "      <td>0.026926</td>\n",
       "      <td>0.014663</td>\n",
       "      <td>0.013863</td>\n",
       "      <td>0.021861</td>\n",
       "      <td>0.015196</td>\n",
       "      <td>0.016796</td>\n",
       "      <td>0.012263</td>\n",
       "      <td>0.011730</td>\n",
       "      <td>0.020261</td>\n",
       "      <td>0.011197</td>\n",
       "    </tr>\n",
       "    <tr>\n",
       "      <th>std</th>\n",
       "      <td>0.498278</td>\n",
       "      <td>0.079989</td>\n",
       "      <td>0.105860</td>\n",
       "      <td>0.078414</td>\n",
       "      <td>0.115885</td>\n",
       "      <td>0.102592</td>\n",
       "      <td>0.078702</td>\n",
       "      <td>0.090017</td>\n",
       "      <td>0.162731</td>\n",
       "      <td>0.071702</td>\n",
       "      <td>...</td>\n",
       "      <td>0.161889</td>\n",
       "      <td>0.120215</td>\n",
       "      <td>0.116938</td>\n",
       "      <td>0.146249</td>\n",
       "      <td>0.122348</td>\n",
       "      <td>0.128522</td>\n",
       "      <td>0.110074</td>\n",
       "      <td>0.107683</td>\n",
       "      <td>0.140911</td>\n",
       "      <td>0.105236</td>\n",
       "    </tr>\n",
       "    <tr>\n",
       "      <th>min</th>\n",
       "      <td>0.000000</td>\n",
       "      <td>0.000000</td>\n",
       "      <td>0.282128</td>\n",
       "      <td>0.000000</td>\n",
       "      <td>0.000000</td>\n",
       "      <td>0.002630</td>\n",
       "      <td>0.137873</td>\n",
       "      <td>0.006130</td>\n",
       "      <td>0.000000</td>\n",
       "      <td>0.275590</td>\n",
       "      <td>...</td>\n",
       "      <td>0.000000</td>\n",
       "      <td>0.000000</td>\n",
       "      <td>0.000000</td>\n",
       "      <td>0.000000</td>\n",
       "      <td>0.000000</td>\n",
       "      <td>0.000000</td>\n",
       "      <td>0.000000</td>\n",
       "      <td>0.000000</td>\n",
       "      <td>0.000000</td>\n",
       "      <td>0.000000</td>\n",
       "    </tr>\n",
       "    <tr>\n",
       "      <th>25%</th>\n",
       "      <td>0.000000</td>\n",
       "      <td>0.033300</td>\n",
       "      <td>0.517811</td>\n",
       "      <td>0.000000</td>\n",
       "      <td>0.000000</td>\n",
       "      <td>0.138118</td>\n",
       "      <td>0.625627</td>\n",
       "      <td>0.207374</td>\n",
       "      <td>0.378062</td>\n",
       "      <td>0.707339</td>\n",
       "      <td>...</td>\n",
       "      <td>0.000000</td>\n",
       "      <td>0.000000</td>\n",
       "      <td>0.000000</td>\n",
       "      <td>0.000000</td>\n",
       "      <td>0.000000</td>\n",
       "      <td>0.000000</td>\n",
       "      <td>0.000000</td>\n",
       "      <td>0.000000</td>\n",
       "      <td>0.000000</td>\n",
       "      <td>0.000000</td>\n",
       "    </tr>\n",
       "    <tr>\n",
       "      <th>50%</th>\n",
       "      <td>1.000000</td>\n",
       "      <td>0.066700</td>\n",
       "      <td>0.585989</td>\n",
       "      <td>0.050000</td>\n",
       "      <td>0.000000</td>\n",
       "      <td>0.190926</td>\n",
       "      <td>0.674037</td>\n",
       "      <td>0.277845</td>\n",
       "      <td>0.499942</td>\n",
       "      <td>0.738961</td>\n",
       "      <td>...</td>\n",
       "      <td>0.000000</td>\n",
       "      <td>0.000000</td>\n",
       "      <td>0.000000</td>\n",
       "      <td>0.000000</td>\n",
       "      <td>0.000000</td>\n",
       "      <td>0.000000</td>\n",
       "      <td>0.000000</td>\n",
       "      <td>0.000000</td>\n",
       "      <td>0.000000</td>\n",
       "      <td>0.000000</td>\n",
       "    </tr>\n",
       "    <tr>\n",
       "      <th>75%</th>\n",
       "      <td>1.000000</td>\n",
       "      <td>0.100000</td>\n",
       "      <td>0.668395</td>\n",
       "      <td>0.100000</td>\n",
       "      <td>0.000000</td>\n",
       "      <td>0.261726</td>\n",
       "      <td>0.740663</td>\n",
       "      <td>0.335816</td>\n",
       "      <td>0.569962</td>\n",
       "      <td>0.788177</td>\n",
       "      <td>...</td>\n",
       "      <td>0.000000</td>\n",
       "      <td>0.000000</td>\n",
       "      <td>0.000000</td>\n",
       "      <td>0.000000</td>\n",
       "      <td>0.000000</td>\n",
       "      <td>0.000000</td>\n",
       "      <td>0.000000</td>\n",
       "      <td>0.000000</td>\n",
       "      <td>0.000000</td>\n",
       "      <td>0.000000</td>\n",
       "    </tr>\n",
       "    <tr>\n",
       "      <th>max</th>\n",
       "      <td>1.000000</td>\n",
       "      <td>1.000000</td>\n",
       "      <td>0.964381</td>\n",
       "      <td>0.950000</td>\n",
       "      <td>1.000000</td>\n",
       "      <td>1.000000</td>\n",
       "      <td>0.994735</td>\n",
       "      <td>0.790831</td>\n",
       "      <td>0.989870</td>\n",
       "      <td>1.000000</td>\n",
       "      <td>...</td>\n",
       "      <td>1.000000</td>\n",
       "      <td>1.000000</td>\n",
       "      <td>1.000000</td>\n",
       "      <td>1.000000</td>\n",
       "      <td>1.000000</td>\n",
       "      <td>1.000000</td>\n",
       "      <td>1.000000</td>\n",
       "      <td>1.000000</td>\n",
       "      <td>1.000000</td>\n",
       "      <td>1.000000</td>\n",
       "    </tr>\n",
       "  </tbody>\n",
       "</table>\n",
       "<p>8 rows × 1777 columns</p>\n",
       "</div>"
      ],
      "text/plain": [
       "          Activity           D1           D2           D3           D4  \\\n",
       "count  3751.000000  3751.000000  3751.000000  3751.000000  3751.000000   \n",
       "mean      0.542255     0.076948     0.592436     0.068142     0.038990   \n",
       "std       0.498278     0.079989     0.105860     0.078414     0.115885   \n",
       "min       0.000000     0.000000     0.282128     0.000000     0.000000   \n",
       "25%       0.000000     0.033300     0.517811     0.000000     0.000000   \n",
       "50%       1.000000     0.066700     0.585989     0.050000     0.000000   \n",
       "75%       1.000000     0.100000     0.668395     0.100000     0.000000   \n",
       "max       1.000000     1.000000     0.964381     0.950000     1.000000   \n",
       "\n",
       "                D5           D6           D7           D8           D9  ...  \\\n",
       "count  3751.000000  3751.000000  3751.000000  3751.000000  3751.000000  ...   \n",
       "mean      0.212112     0.686653     0.274713     0.455133     0.749517  ...   \n",
       "std       0.102592     0.078702     0.090017     0.162731     0.071702  ...   \n",
       "min       0.002630     0.137873     0.006130     0.000000     0.275590  ...   \n",
       "25%       0.138118     0.625627     0.207374     0.378062     0.707339  ...   \n",
       "50%       0.190926     0.674037     0.277845     0.499942     0.738961  ...   \n",
       "75%       0.261726     0.740663     0.335816     0.569962     0.788177  ...   \n",
       "max       1.000000     0.994735     0.790831     0.989870     1.000000  ...   \n",
       "\n",
       "             D1767        D1768        D1769        D1770        D1771  \\\n",
       "count  3751.000000  3751.000000  3751.000000  3751.000000  3751.000000   \n",
       "mean      0.026926     0.014663     0.013863     0.021861     0.015196   \n",
       "std       0.161889     0.120215     0.116938     0.146249     0.122348   \n",
       "min       0.000000     0.000000     0.000000     0.000000     0.000000   \n",
       "25%       0.000000     0.000000     0.000000     0.000000     0.000000   \n",
       "50%       0.000000     0.000000     0.000000     0.000000     0.000000   \n",
       "75%       0.000000     0.000000     0.000000     0.000000     0.000000   \n",
       "max       1.000000     1.000000     1.000000     1.000000     1.000000   \n",
       "\n",
       "             D1772        D1773        D1774        D1775        D1776  \n",
       "count  3751.000000  3751.000000  3751.000000  3751.000000  3751.000000  \n",
       "mean      0.016796     0.012263     0.011730     0.020261     0.011197  \n",
       "std       0.128522     0.110074     0.107683     0.140911     0.105236  \n",
       "min       0.000000     0.000000     0.000000     0.000000     0.000000  \n",
       "25%       0.000000     0.000000     0.000000     0.000000     0.000000  \n",
       "50%       0.000000     0.000000     0.000000     0.000000     0.000000  \n",
       "75%       0.000000     0.000000     0.000000     0.000000     0.000000  \n",
       "max       1.000000     1.000000     1.000000     1.000000     1.000000  \n",
       "\n",
       "[8 rows x 1777 columns]"
      ]
     },
     "execution_count": 50,
     "metadata": {},
     "output_type": "execute_result"
    }
   ],
   "source": [
    "descr_df=df.describe()\n",
    "descr_df"
   ]
  },
  {
   "cell_type": "code",
   "execution_count": 51,
   "id": "20dc3c2e",
   "metadata": {},
   "outputs": [
    {
     "data": {
      "image/png": "[encoded data removed]",
      "text/plain": [
       "<Figure size 1152x576 with 4 Axes>"
      ]
     },
     "metadata": {
      "needs_background": "light"
     },
     "output_type": "display_data"
    }
   ],
   "source": [
    "fig, axes = plt.subplots(nrows=2, ncols=2, figsize = (16, 8))\n",
    "sns.histplot(df, ax = axes[0,0], x = 'D1', kde = True, color = 'g')\n",
    "sns.histplot(df, ax = axes[0,1], x = 'D2', kde = True, color = 'r')\n",
    "sns.histplot(df, ax = axes[1,0], x = 'D3', kde = True, color = 'b')\n",
    "sns.histplot(df, ax = axes[1,1], x = 'D4', kde = True, color = 'c')\n",
    "\n",
    "fig.suptitle('Normal Distribution Plot of the first four Independent Features',fontsize=20)\n",
    "plt.show()"
   ]
  },
  {
   "cell_type": "markdown",
   "id": "35ea8944",
   "metadata": {},
   "source": [
    "So with the kinetic density estimator its quite easy to visualize the distribution of the features of the dataset, now we can see how far the values are from the mean, and also notice that some features are normally distributed while the other features are skewed to the right, its note worthy to also mention that there are alot of features and these four were randomly chosen"
   ]
  },
  {
   "cell_type": "code",
   "execution_count": 52,
   "id": "fede87c8",
   "metadata": {},
   "outputs": [
    {
     "name": "stdout",
     "output_type": "stream",
     "text": [
      "Number of features having values more than 1:  0\n",
      "Number of features having values less than 0:  0\n"
     ]
    }
   ],
   "source": [
    "# checking if trully all the columns were normalised to [0,1]\n",
    "descr_df_transposed = descr_df.transpose()\n",
    "max = descr_df_transposed['max'][descr_df_transposed['max'] > 1].count()\n",
    "min = descr_df_transposed['min'][descr_df_transposed['min'] < 0].count()\n",
    "print (\"Number of features having values more than 1: \", max)\n",
    "print (\"Number of features having values less than 0: \", min)"
   ]
  },
  {
   "cell_type": "markdown",
   "id": "08183f66",
   "metadata": {},
   "source": [
    "Observations:\n",
    "* All the dependent features are of type `Float`.\n",
    "* All the features have been normalised to `[0,1]`.\n",
    "* Some features seem to have only two values: `0`, and `1` (binary columns). This is because the `min`, `25%`, `50%`, `75%` and `max` values are either `0` or `1`."
   ]
  },
  {
   "cell_type": "code",
   "execution_count": 53,
   "id": "dc13e9bd",
   "metadata": {},
   "outputs": [
    {
     "name": "stdout",
     "output_type": "stream",
     "text": [
      "Columns having binary values are:  836\n",
      "\n",
      " Columns having non_binary values are:  941\n",
      "\n",
      " Number of binary columns whose values are 1 and 0 are: 835 and they constitute  99.88 % of the binary columns.\n",
      "\n",
      " Binary columns whose values are not 1 and 0 are:  ['D823']\n"
     ]
    }
   ],
   "source": [
    "# checking how many column have binary values\n",
    "binary_df = df.nunique().reset_index()\n",
    "# a column that has two unique values is a binary column\n",
    "binary_columns = list(binary_df[binary_df[0] == 2]['index'])\n",
    "non_binary_columns= list(binary_df[binary_df[0] != 2]['index'])\n",
    "print(\"Columns having binary values are: \", len(binary_columns))\n",
    "print('\\n',\"Columns having non_binary values are: \", len(non_binary_columns))\n",
    "\n",
    "\n",
    "# checking to see if the binary values are 1 and 0:\n",
    "count = 0\n",
    "uniquebinary = []\n",
    "for col in binary_columns:\n",
    "    if df[col].max() ==1 and df[col].min() == 0:\n",
    "        count = count + 1\n",
    "    else:\n",
    "        uniquebinary.append(col)\n",
    "print ('\\n',\"Number of binary columns whose values are 1 and 0 are:\", count,\n",
    "        \"and they constitute \", round((count*100/len(binary_columns)),2),\"% of the binary columns.\")\n",
    "if len(uniquebinary) > 0:\n",
    "    print ('\\n',\"Binary columns whose values are not 1 and 0 are: \", uniquebinary)"
   ]
  },
  {
   "cell_type": "code",
   "execution_count": 54,
   "id": "1ba68222",
   "metadata": {},
   "outputs": [
    {
     "data": {
      "text/plain": [
       "count    3751.000000\n",
       "mean        0.000044\n",
       "std         0.002721\n",
       "min         0.000000\n",
       "25%         0.000000\n",
       "50%         0.000000\n",
       "75%         0.000000\n",
       "max         0.166667\n",
       "Name: D823, dtype: float64"
      ]
     },
     "execution_count": 54,
     "metadata": {},
     "output_type": "execute_result"
    }
   ],
   "source": [
    "# checking the composition of the identified columns()\n",
    "df['D823'].describe()"
   ]
  },
  {
   "cell_type": "code",
   "execution_count": 55,
   "id": "3de749c3",
   "metadata": {},
   "outputs": [
    {
     "data": {
      "text/plain": [
       "True     3750\n",
       "False       1\n",
       "Name: D823, dtype: int64"
      ]
     },
     "execution_count": 55,
     "metadata": {},
     "output_type": "execute_result"
    }
   ],
   "source": [
    "col=df['D823']==0\n",
    "col.value_counts()"
   ]
  },
  {
   "cell_type": "markdown",
   "id": "d0521177",
   "metadata": {},
   "source": [
    "The feature `D823` has a value (of type `float`) that is `not equal to 1`, in addition to all other rows that are zero, it will therefore, not be considered as being a binary feature. These are possibly outputs of data vectorisation and one-hot encoding that was done before the data was availed to us."
   ]
  },
  {
   "cell_type": "code",
   "execution_count": 56,
   "id": "72601b99",
   "metadata": {},
   "outputs": [
    {
     "data": {
      "text/plain": [
       "835"
      ]
     },
     "execution_count": 56,
     "metadata": {},
     "output_type": "execute_result"
    }
   ],
   "source": [
    "# removing the identified column and having a purely [0,1] binary columns list\n",
    "binary_columns = [x for x in binary_columns if x not in uniquebinary]\n",
    "len(binary_columns)"
   ]
  },
  {
   "cell_type": "code",
   "execution_count": 57,
   "id": "694d85f8",
   "metadata": {},
   "outputs": [],
   "source": [
    "import random\n",
    "\n",
    "ind = []\n",
    "i = len(ind)\n",
    "while i < 28:\n",
    "    j = random.randint(0,len(binary_columns)-1)\n",
    "    if j not in ind:\n",
    "        ind.append(j)\n",
    "    i = len(ind)"
   ]
  },
  {
   "cell_type": "code",
   "execution_count": 58,
   "id": "f44be398",
   "metadata": {},
   "outputs": [],
   "source": [
    "random_sample=df[binary_columns].sample(20, axis='columns', random_state=1)\n",
    "columns=random_sample.columns"
   ]
  },
  {
   "cell_type": "code",
   "execution_count": 59,
   "id": "dc4caf09",
   "metadata": {},
   "outputs": [
    {
     "data": {
      "image/png": "[encoded data removed]",
      "text/plain": [
       "<Figure size 1152x1584 with 20 Axes>"
      ]
     },
     "metadata": {
      "needs_background": "light"
     },
     "output_type": "display_data"
    }
   ],
   "source": [
    "#distribution plot of 20 random samples from the binary feautures\n",
    "plt.show()\n",
    "fig, axes=plt.subplots(nrows=5, ncols=4, figsize=(16, 22))\n",
    "fig.tight_layout(pad=4, h_pad=None, w_pad=None, rect=None)\n",
    "for col, ax in zip(random_sample.columns, axes.flat):\n",
    "    sns.violinplot(random_sample[col], ax=ax)\n",
    "plt.xticks() \n",
    "plt.show()\n",
    "    \n"
   ]
  },
  {
   "cell_type": "code",
   "execution_count": 60,
   "id": "4ae804d4",
   "metadata": {},
   "outputs": [
    {
     "data": {
      "text/plain": [
       "Index(['D1764', 'D1197', 'D1180', 'D1749', 'D1158', 'D1327', 'D1394', 'D1395',\n",
       "       'D568', 'D1379', 'D1564', 'D1491', 'D1634', 'D1671', 'D1409', 'D1216',\n",
       "       'D1469', 'D1523', 'D1755', 'D1668'],\n",
       "      dtype='object')"
      ]
     },
     "execution_count": 60,
     "metadata": {},
     "output_type": "execute_result"
    }
   ],
   "source": [
    "random_sample.columns"
   ]
  },
  {
   "cell_type": "markdown",
   "id": "d1b38622",
   "metadata": {},
   "source": [
    "### Outliers"
   ]
  },
  {
   "cell_type": "markdown",
   "id": "de062f08",
   "metadata": {},
   "source": [
    "Kurtosis is a measure of the “tailedness” of the probability distribution. A standard normal distribution has kurtosis of 3 and is recognized as mesokurtic. An increased kurtosis (>3) can be visualized as a thin “bell” with a high peak whereas a decreased kurtosis corresponds to a broadening of the peak and “thickening” of the tails. Kurtosis >3 is recognized as leptokurtic and <3 as platykurtic (lepto=thin; platy=broad).\n",
    "\n",
    "Playkurtic: it tends to produce fewer and less extreme outliers than the normal distribution.\n",
    "\n",
    "Leptokurtic: it tends to produce more outliers than the normal distribution."
   ]
  },
  {
   "cell_type": "markdown",
   "id": "52889594",
   "metadata": {},
   "source": [
    "<img src='resources/images/distribution.png' alt=\"image info\" />"
   ]
  },
  {
   "cell_type": "markdown",
   "id": "047b29ad",
   "metadata": {},
   "source": [
    "D : Laplace distribution, also known as the double exponential distribution, red curve (two straight lines in the log-scale plot), excess kurtosis = 3\n",
    "\n",
    "S : hyperbolic secant distribution, orange curve, excess kurtosis = 2\n",
    "\n",
    "L : logistic distribution, green curve, excess kurtosis = 1.2\n",
    "\n",
    "N : normal distribution, black curve (inverted parabola in the log-scale plot), excess kurtosis = 0\n",
    "\n",
    "C : raised cosine distribution, cyan curve, excess kurtosis = −0.593762...\n",
    "\n",
    "W : Wigner semicircle distribution, blue curve, excess kurtosis = −1\n",
    "\n",
    "U : uniform distribution, magenta curve (shown for clarity as a rectangle in both images), excess kurtosis = −1.2."
   ]
  },
  {
   "cell_type": "markdown",
   "id": "831e80ce",
   "metadata": {},
   "source": [
    "For the task, we will remove the binary columns from the dataset, as these should not be evaluated for outliers."
   ]
  },
  {
   "cell_type": "code",
   "execution_count": 61,
   "id": "6ce6148a",
   "metadata": {},
   "outputs": [],
   "source": [
    "# extracting columns for continuous features\n",
    "columns = list(df.columns)\n",
    "normal_columns = [x for x in columns if x not in binary_columns]\n",
    "normal_columns.append('Activity')\n",
    "df = df[normal_columns]"
   ]
  },
  {
   "cell_type": "code",
   "execution_count": 62,
   "id": "acaf0fa9",
   "metadata": {},
   "outputs": [],
   "source": [
    "import random\n",
    "ind2 = []\n",
    "i = len(ind2)\n",
    "while i < 28:\n",
    "    j = random.randint(0,len(normal_columns)-1)\n",
    "    if j not in ind2:\n",
    "        if j not in ind:\n",
    "            ind2.append(j)\n",
    "    i = len(ind2)"
   ]
  },
  {
   "cell_type": "code",
   "execution_count": 63,
   "id": "17165c8d",
   "metadata": {},
   "outputs": [
    {
     "data": {
      "image/png": "[encoded data removed]",
      "text/plain": [
       "<Figure size 1152x2304 with 28 Axes>"
      ]
     },
     "metadata": {
      "needs_background": "light"
     },
     "output_type": "display_data"
    }
   ],
   "source": [
    "\n",
    "# creating distribution plot of a sample 28 'normal' features, excluding the dependent variable and binary features\n",
    "fig, axes = plt.subplots(nrows=7, ncols=4, figsize=(16, 32))\n",
    "# adjust subplots' spacing so titles and xlabels don't overlap by adjusting the pad values\n",
    "fig.tight_layout(pad=4, h_pad=None, w_pad=None, rect=None)\n",
    "\n",
    "columns = normal_columns\n",
    "# columns = binary_columns[:28]\n",
    "col = 0\n",
    "for axs in axes:\n",
    "    for ax in axs:\n",
    "        #violin plots using seaborn library\n",
    "        sns.violinplot(data = list(df[columns[ind[col]]]), ax = ax)\n",
    "        ax.set_title(\"Independent 'Normal' Features: \"+ columns[ind[col]])\n",
    "        col = col + 1\n",
    "        if col == len(columns):\n",
    "            break\n",
    "\n",
    "plt.show()"
   ]
  },
  {
   "cell_type": "code",
   "execution_count": 64,
   "id": "ab752b68",
   "metadata": {},
   "outputs": [
    {
     "data": {
      "text/plain": [
       "D1           19.354861\n",
       "D2           -0.277627\n",
       "D3            8.935350\n",
       "D4           20.548969\n",
       "D5            4.192214\n",
       "               ...    \n",
       "D948        201.866125\n",
       "D949          2.952185\n",
       "D950         17.122472\n",
       "D951         12.860410\n",
       "Activity     -1.972255\n",
       "Length: 943, dtype: float64"
      ]
     },
     "execution_count": 64,
     "metadata": {},
     "output_type": "execute_result"
    }
   ],
   "source": [
    "df.kurtosis()"
   ]
  },
  {
   "cell_type": "markdown",
   "id": "b0e4fd2e",
   "metadata": {},
   "source": [
    "### kurtosis plotting"
   ]
  },
  {
   "cell_type": "code",
   "execution_count": 65,
   "id": "106e5418",
   "metadata": {},
   "outputs": [
    {
     "name": "stdout",
     "output_type": "stream",
     "text": [
      "Number of features that have outliers:  882\n"
     ]
    }
   ],
   "source": [
    "# application of kurtosis to identify possibility of outliers\n",
    "# kurtosis values greater than 3\n",
    "kurt = df.kurtosis()\n",
    "count = 0\n",
    "for i in kurt:\n",
    "    if i > 3:\n",
    "        count = count + 1 \n",
    "print (\"Number of features that have outliers: \",count)"
   ]
  },
  {
   "cell_type": "markdown",
   "id": "7560d533",
   "metadata": {},
   "source": [
    "### Correlation"
   ]
  },
  {
   "cell_type": "code",
   "execution_count": 66,
   "id": "3147ac5c",
   "metadata": {},
   "outputs": [],
   "source": [
    "# checking correlation of the variables\n",
    "correlation = df.corr()"
   ]
  },
  {
   "cell_type": "code",
   "execution_count": 67,
   "id": "b8aa0695",
   "metadata": {},
   "outputs": [],
   "source": [
    "# correlation of independent variables with the dependent variable, `Activity`\n",
    "top20 = correlation['Activity'].sort_values()[:10].append(correlation['Activity'].sort_values()[-10:])"
   ]
  },
  {
   "cell_type": "code",
   "execution_count": 68,
   "id": "8e9037ef",
   "metadata": {},
   "outputs": [
    {
     "data": {
      "text/plain": [
       "D217       -0.233387\n",
       "D87        -0.223081\n",
       "D187       -0.198590\n",
       "D158       -0.197721\n",
       "D60        -0.180185\n",
       "D61        -0.174588\n",
       "D173       -0.169300\n",
       "D175       -0.162607\n",
       "D129       -0.153477\n",
       "D103       -0.151922\n",
       "D596        0.204092\n",
       "D660        0.204864\n",
       "D209        0.210154\n",
       "D607        0.210270\n",
       "D146        0.213311\n",
       "D659        0.226049\n",
       "D747        0.226468\n",
       "D182        0.228664\n",
       "D469        0.268601\n",
       "Activity    1.000000\n",
       "Name: Activity, dtype: float64"
      ]
     },
     "execution_count": 68,
     "metadata": {},
     "output_type": "execute_result"
    }
   ],
   "source": [
    "# getting the features that have the \n",
    "# top 20 highest correlation values with the `Activity` variable\n",
    "top20"
   ]
  },
  {
   "cell_type": "markdown",
   "id": "15e2e5e2",
   "metadata": {},
   "source": [
    "### Imbalanced Dependent Variable\n"
   ]
  },
  {
   "cell_type": "code",
   "execution_count": 69,
   "id": "705fc37d",
   "metadata": {},
   "outputs": [
    {
     "data": {
      "text/plain": [
       "1    2034\n",
       "0    1717\n",
       "Name: Activity, dtype: int64"
      ]
     },
     "execution_count": 69,
     "metadata": {},
     "output_type": "execute_result"
    }
   ],
   "source": [
    "df['Activity'].value_counts()"
   ]
  },
  {
   "cell_type": "code",
   "execution_count": 70,
   "id": "2825bdb6",
   "metadata": {},
   "outputs": [
    {
     "data": {
      "image/png": "[encoded data removed]",
      "text/plain": [
       "<Figure size 432x288 with 1 Axes>"
      ]
     },
     "metadata": {
      "needs_background": "light"
     },
     "output_type": "display_data"
    }
   ],
   "source": [
    "sns.countplot(x = 'Activity', hue='Activity', data = df)\n",
    "plt.show()"
   ]
  },
  {
   "cell_type": "markdown",
   "id": "1b08956e",
   "metadata": {},
   "source": [
    "It can be seen that:\n",
    "* Binary 0: 1,717 observations\n",
    "* Binary 1: 2,034 observations\n",
    "\n",
    "Therefore, the binaries in the observation are approximately balanced, with slightly more Binary 1 observations (317 observations, 18% difference over the lower value).\n",
    "\n",
    "No more action on imbalance is required."
   ]
  },
  {
   "cell_type": "markdown",
   "id": "58717493",
   "metadata": {},
   "source": [
    "As the dependent variable is a binary feature, binary classification algorithms will be considered. These will include:\n",
    "1. Naive Bayes\n",
    "2. Logistic Regression\n",
    "3. K-Nearest Neighbours\n",
    "4. Support Vector Machine\n",
    "5. Decision Tree\n",
    "6. Bagging Decision Tree (Ensemble Learning I)\n",
    "7. Boosted Decision Tree (Ensemble Learning II)\n",
    "8. Random Forest (Ensemble Learning III)\n",
    "9. Voting Classification (Ensemble Learning IV)\n",
    "10. Neural Network (Deep Learning)\n",
    "\n",
    "They are described here: https://towardsdatascience.com/top-10-binary-classification-algorithms-a-beginners-guide-feeacbd7a3e2"
   ]
  },
  {
   "cell_type": "markdown",
   "id": "ddf0fb36",
   "metadata": {},
   "source": [
    "## MINIMUM VIABLE MODEL\n",
    "we are going to first train the models on the dataset using the default parameters."
   ]
  },
  {
   "cell_type": "markdown",
   "id": "60b7a0ee",
   "metadata": {},
   "source": [
    "### Naive bayes"
   ]
  },
  {
   "cell_type": "code",
   "execution_count": 130,
   "id": "bfce9e15",
   "metadata": {},
   "outputs": [
    {
     "name": "stdout",
     "output_type": "stream",
     "text": [
      "The log loss error for naive bayes is:  12.739586905970421\n"
     ]
    }
   ],
   "source": [
    "y = df['Activity']\n",
    "columns = df.columns\n",
    "X = df[columns[1:]]\n",
    "# Get training and testing data, with test size of 20%\n",
    "X_train, X_test, y_train, y_test = train_test_split(X, y, test_size=0.2, random_state=42)\n",
    "# Define the model \n",
    "naive_bayes = GaussianNB()\n",
    "# Fit the model \n",
    "naive_bayes.fit(X_train, y_train)\n",
    "# Get predictions on the test set \n",
    "y_hat = naive_bayes.predict(X_test)\n",
    "# Calculate the log loss (this was imported from sklearn above somewhere) \n",
    "print(\"The log loss error for naive bayes is: \", log_loss(y_test, y_hat))"
   ]
  },
  {
   "cell_type": "code",
   "execution_count": 131,
   "id": "b5e9c13d",
   "metadata": {},
   "outputs": [
    {
     "data": {
      "image/png": "[encoded data removed]",
      "text/plain": [
       "<Figure size 432x288 with 2 Axes>"
      ]
     },
     "metadata": {
      "needs_background": "light"
     },
     "output_type": "display_data"
    }
   ],
   "source": [
    "cm1=confusion_matrix(y_test, y_hat)\n",
    "sns.heatmap(cm1, annot=True, fmt=\"\")\n",
    "plt.show()"
   ]
  },
  {
   "cell_type": "code",
   "execution_count": 132,
   "id": "a2b49597",
   "metadata": {},
   "outputs": [
    {
     "data": {
      "text/plain": [
       "0.6311584553928096"
      ]
     },
     "execution_count": 132,
     "metadata": {},
     "output_type": "execute_result"
    }
   ],
   "source": [
    "accuracy_score(y_test, y_hat) "
   ]
  },
  {
   "cell_type": "code",
   "execution_count": 133,
   "id": "1d263c6a",
   "metadata": {},
   "outputs": [],
   "source": [
    "# predicting \"activity\" for unseen dataset\n",
    "y_pred = naive_bayes.predict_proba(df_test)\n",
    "#preparing submission file\n",
    "l = len(df_test)\n",
    "moleculeID = []\n",
    "for i in range(l):\n",
    "    i = i + 1\n",
    "    moleculeID.append(i)\n",
    "y_pred_class1 = [i[1] for i in y_pred]\n",
    "y_pred_class0 = [i[0] for i in y_pred]\n",
    "df_pred = pd.DataFrame({\"MoleculeId\": moleculeID, \"PredictedProbability\": y_pred_class1})\n",
    "df_pred.to_csv(\"submissions/submission_bayes_MVM.csv\", index = False)"
   ]
  },
  {
   "cell_type": "markdown",
   "id": "c8d509f8",
   "metadata": {},
   "source": [
    "On submission of the generated CSV to Kaggle, the score was (lower is better):\n",
    "* Public score: 13.11529\n",
    "* Private score: 12.34188\n",
    "\n",
    "The leading score was `0.37355`.\n",
    "\n",
    "It is seen that the model performs better on test data than on the validation data.\n",
    "Better models or more feature engineering and hyperparameter tuning will be employed to improve the score."
   ]
  },
  {
   "cell_type": "markdown",
   "id": "a2b4d8f9",
   "metadata": {},
   "source": [
    "### Logistic Regression"
   ]
  },
  {
   "cell_type": "code",
   "execution_count": 134,
   "id": "9c3300ec",
   "metadata": {},
   "outputs": [
    {
     "name": "stdout",
     "output_type": "stream",
     "text": [
      "The log loss error for log_reg model is:  8.646297100384551\n"
     ]
    }
   ],
   "source": [
    "log_reg=LogisticRegression()\n",
    "log_reg.fit(X_train, y_train)\n",
    "log_reg_pred=log_reg.predict(X_test)\n",
    "print(\"The log loss error for log_reg model is: \", log_loss(y_test, log_reg_pred))"
   ]
  },
  {
   "cell_type": "code",
   "execution_count": 135,
   "id": "85c39b56",
   "metadata": {},
   "outputs": [
    {
     "data": {
      "image/png": "[encoded data removed]",
      "text/plain": [
       "<Figure size 432x288 with 2 Axes>"
      ]
     },
     "metadata": {
      "needs_background": "light"
     },
     "output_type": "display_data"
    }
   ],
   "source": [
    "cm2=confusion_matrix(y_test, log_reg_pred)\n",
    "sns.heatmap(cm2, annot=True, fmt=\"\")\n",
    "plt.show()"
   ]
  },
  {
   "cell_type": "code",
   "execution_count": 136,
   "id": "7bef401c",
   "metadata": {},
   "outputs": [
    {
     "data": {
      "text/plain": [
       "0.7496671105193076"
      ]
     },
     "execution_count": 136,
     "metadata": {},
     "output_type": "execute_result"
    }
   ],
   "source": [
    "accuracy_score(y_test, log_reg_pred) "
   ]
  },
  {
   "cell_type": "markdown",
   "id": "ed6dd021",
   "metadata": {},
   "source": [
    "### KNearest Neighbors"
   ]
  },
  {
   "cell_type": "code",
   "execution_count": 137,
   "id": "48138bb2",
   "metadata": {},
   "outputs": [
    {
     "name": "stdout",
     "output_type": "stream",
     "text": [
      "The log loss error for knn is:  9.704090777411139\n"
     ]
    }
   ],
   "source": [
    "knn=KNeighborsClassifier()\n",
    "knn.fit(X_train, y_train)\n",
    "knn_pred=knn.predict(X_test)\n",
    "print(\"The log loss error for knn is: \", log_loss(y_test, knn_pred))\n"
   ]
  },
  {
   "cell_type": "code",
   "execution_count": 138,
   "id": "ac7f47cf",
   "metadata": {},
   "outputs": [
    {
     "data": {
      "image/png": "[encoded data removed]",
      "text/plain": [
       "<Figure size 432x288 with 2 Axes>"
      ]
     },
     "metadata": {
      "needs_background": "light"
     },
     "output_type": "display_data"
    }
   ],
   "source": [
    "cm3=confusion_matrix(y_test, knn_pred)\n",
    "sns.heatmap(cm3, annot=True, fmt=\"\")\n",
    "plt.show()"
   ]
  },
  {
   "cell_type": "code",
   "execution_count": 139,
   "id": "8c9579ee",
   "metadata": {},
   "outputs": [
    {
     "data": {
      "text/plain": [
       "0.7496671105193076"
      ]
     },
     "execution_count": 139,
     "metadata": {},
     "output_type": "execute_result"
    }
   ],
   "source": [
    "accuracy_score(y_test, log_reg_pred) "
   ]
  },
  {
   "cell_type": "markdown",
   "id": "14ce4aac",
   "metadata": {},
   "source": [
    "### Support Vector Machine"
   ]
  },
  {
   "cell_type": "code",
   "execution_count": 140,
   "id": "198cd9d9",
   "metadata": {},
   "outputs": [
    {
     "name": "stdout",
     "output_type": "stream",
     "text": [
      "The log loss error for svc is:  8.92223512965185\n"
     ]
    }
   ],
   "source": [
    "svc= LinearSVC()\n",
    "svc.fit(X_train, y_train)\n",
    "svc_pred=svc.predict(X_test)\n",
    "print(\"The log loss error for svc is: \", log_loss(y_test, svc_pred))\n"
   ]
  },
  {
   "cell_type": "code",
   "execution_count": 141,
   "id": "4a18b4a9",
   "metadata": {},
   "outputs": [
    {
     "data": {
      "image/png": "[encoded data removed]",
      "text/plain": [
       "<Figure size 432x288 with 2 Axes>"
      ]
     },
     "metadata": {
      "needs_background": "light"
     },
     "output_type": "display_data"
    }
   ],
   "source": [
    "cm4=confusion_matrix(y_test, svc_pred)\n",
    "sns.heatmap(cm4, annot=True, fmt=\"\")\n",
    "plt.show()"
   ]
  },
  {
   "cell_type": "code",
   "execution_count": 142,
   "id": "a8e78e09",
   "metadata": {},
   "outputs": [
    {
     "data": {
      "text/plain": [
       "0.7416777629826897"
      ]
     },
     "execution_count": 142,
     "metadata": {},
     "output_type": "execute_result"
    }
   ],
   "source": [
    "accuracy_score(y_test, svc_pred) "
   ]
  },
  {
   "cell_type": "markdown",
   "id": "8c4cde8b",
   "metadata": {},
   "source": [
    "### Decision Tree Classifier"
   ]
  },
  {
   "cell_type": "code",
   "execution_count": 143,
   "id": "d8f1ff9b",
   "metadata": {},
   "outputs": [
    {
     "name": "stdout",
     "output_type": "stream",
     "text": [
      "The log loss error for svc is:  9.750066252818447\n"
     ]
    }
   ],
   "source": [
    "dtc=DecisionTreeClassifier()\n",
    "dtc.fit(X_train, y_train)\n",
    "dtc_pred=dtc.predict(X_test)\n",
    "print(\"The log loss error for svc is: \", log_loss(y_test, dtc_pred))\n"
   ]
  },
  {
   "cell_type": "code",
   "execution_count": 144,
   "id": "cc4c702b",
   "metadata": {},
   "outputs": [
    {
     "data": {
      "image/png": "[encoded data removed]",
      "text/plain": [
       "<Figure size 432x288 with 2 Axes>"
      ]
     },
     "metadata": {
      "needs_background": "light"
     },
     "output_type": "display_data"
    }
   ],
   "source": [
    "cm5=confusion_matrix(y_test, dtc_pred) \n",
    "sns.heatmap(cm5, annot=True, fmt=\"\")\n",
    "plt.show()"
   ]
  },
  {
   "cell_type": "code",
   "execution_count": 145,
   "id": "7d5574da",
   "metadata": {},
   "outputs": [
    {
     "data": {
      "text/plain": [
       "0.7177097203728362"
      ]
     },
     "execution_count": 145,
     "metadata": {},
     "output_type": "execute_result"
    }
   ],
   "source": [
    "accuracy_score(y_test, dtc_pred) "
   ]
  },
  {
   "cell_type": "markdown",
   "id": "4d774383",
   "metadata": {},
   "source": [
    "### Random forest"
   ]
  },
  {
   "cell_type": "code",
   "execution_count": 146,
   "id": "8402d8cf",
   "metadata": {},
   "outputs": [
    {
     "name": "stdout",
     "output_type": "stream",
     "text": [
      "The log loss error for rf is:  9.750066252818447\n"
     ]
    }
   ],
   "source": [
    "rf=RandomForestClassifier()\n",
    "rf.fit(X_train, y_train)\n",
    "rf_pred=rf.predict(X_test)\n",
    "print(\"The log loss error for rf is: \", log_loss(y_test, dtc_pred))"
   ]
  },
  {
   "cell_type": "code",
   "execution_count": 147,
   "id": "c7b7db1a",
   "metadata": {},
   "outputs": [
    {
     "data": {
      "image/png": "[encoded data removed]",
      "text/plain": [
       "<Figure size 432x288 with 2 Axes>"
      ]
     },
     "metadata": {
      "needs_background": "light"
     },
     "output_type": "display_data"
    }
   ],
   "source": [
    "cm6=confusion_matrix(y_test, rf_pred) \n",
    "sns.heatmap(cm6, annot=True, fmt=\"\")\n",
    "plt.show()\n"
   ]
  },
  {
   "cell_type": "code",
   "execution_count": 150,
   "id": "c3c1609c",
   "metadata": {},
   "outputs": [
    {
     "data": {
      "text/plain": [
       "0.8122503328894807"
      ]
     },
     "execution_count": 150,
     "metadata": {},
     "output_type": "execute_result"
    }
   ],
   "source": [
    "accuracy_score(y_test, rf_pred) "
   ]
  },
  {
   "cell_type": "code",
   "execution_count": 110,
   "id": "c5a6b76a",
   "metadata": {},
   "outputs": [],
   "source": [
    "# we will create a function that will run all the algorithms and save in a dictionary\n",
    "import timeit\n",
    "from sklearn.naive_bayes import MultinomialNB\n",
    "from sklearn.linear_model import LogisticRegression\n",
    "from sklearn.neighbors import KNeighborsClassifier\n",
    "from sklearn.svm import LinearSVC\n",
    "from sklearn.tree import DecisionTreeClassifier\n",
    "from sklearn.ensemble import BaggingClassifier\n",
    "from sklearn.ensemble import AdaBoostClassifier\n",
    "from sklearn.ensemble import RandomForestClassifier\n",
    "from sklearn.ensemble import VotingClassifier\n",
    "from sklearn.naive_bayes import GaussianNB\n",
    "\n",
    "\"\"\"\n",
    "from keras import layers\n",
    "from keras import models\n",
    "from keras import optimizers\n",
    "from keras import losses\n",
    "from keras import metrics\n",
    "from keras import regularizers\n",
    "\"\"\"\n",
    "\n",
    "model_names = []\n",
    "model_coeffs = []\n",
    "model_scores = []\n",
    "model_time = []\n",
    "count = 1\n",
    "\n",
    "\"\"\"\n",
    "    function to output submission files\n",
    "\"\"\"\n",
    "def submission(model, model_name, df_test, count):\n",
    "    # predicting \"activity\" for unseen dataset\n",
    "    l = len(df_test)+1\n",
    "    try:\n",
    "        y_pred = model.predict_proba(df_test)\n",
    "    except AttributeError:\n",
    "        y_pred = model._predict_proba_lr(df_test)\n",
    "    except:\n",
    "        y_pred = [x for x in range(1,l)]\n",
    "    #preparing submission file\n",
    "    l = len(df_test)\n",
    "    moleculeID = []\n",
    "    for i in range(l):\n",
    "        i = i + 1\n",
    "        moleculeID.append(i)\n",
    "    y_pred_class1 = [i[1] for i in y_pred]\n",
    "    y_pred_class0 = [i[0] for i in y_pred]\n",
    "    df_pred = pd.DataFrame({\"MoleculeId\": moleculeID, \"PredictedProbability\": y_pred_class1})\n",
    "    path = \"submissions/\"\n",
    "    file_name = path + \"Untuned submission No.\" + str(count) + \" - \" + model_name + \".csv\"\n",
    "    print (file_name)\n",
    "    df_pred.to_csv(file_name, index = False)\n",
    "    count = count + 1\n",
    "    return count\n",
    "\n",
    "\"\"\"\n",
    "    function to fit model and generate predictions\n",
    "\"\"\"\n",
    "def model_fit_pred(model_, X_train, y_train, X_test, y_test):\n",
    "    model_.fit(X_train, y_train)\n",
    "    # coeff = model_.coef_\n",
    "    coeff = 0\n",
    "    y_pred = model_.predict(X_test)\n",
    "    score = log_loss(y_test, y_pred)\n",
    "    return coeff, score\n",
    "\n",
    "\n",
    "\"\"\"\n",
    "    Function that contains all relevant algorithms for prediction\n",
    "\"\"\"\n",
    "def models_basic (X, y, test_size, count):\n",
    "    # Get training and testing data, with test size of test_size\n",
    "    X_train, X_test, y_train, y_test = train_test_split(X, y, \n",
    "                                                        test_size = test_size, \n",
    "                                                        random_state = 42)\n",
    "    \n",
    "    # Naives Bayes - Gaussian\n",
    "    t_0 = timeit.default_timer()\n",
    "    model_name = \"Naive Bayes - Gaussian\"\n",
    "    naive_bayes = GaussianNB()\n",
    "    coeff, score = model_fit_pred(naive_bayes, X_train, y_train, X_test, y_test)\n",
    "    t_1 = timeit.default_timer()\n",
    "    elapsed_time = round((t_1 - t_0) * 10 ** 6 / 1000000, 3)\n",
    "    model_names.append(model_name)\n",
    "    model_coeffs.append(coeff)\n",
    "    model_scores.append(score)\n",
    "    model_time.append(elapsed_time)\n",
    "    count = submission(naive_bayes, model_name, df_test, count)\n",
    "\n",
    "    # Naives Bayes - Multinomial\n",
    "    t_0 = timeit.default_timer()\n",
    "    model_name = \"Naive Bayes - Multinomial\"\n",
    "    naive_bayes = MultinomialNB()\n",
    "    coeff, score = model_fit_pred(naive_bayes, X_train, y_train, X_test, y_test)\n",
    "    t_1 = timeit.default_timer()\n",
    "    elapsed_time = round((t_1 - t_0) * 10 ** 6 / 1000000, 3)\n",
    "    model_names.append(model_name)\n",
    "    model_coeffs.append(coeff)\n",
    "    model_scores.append(score)\n",
    "    model_time.append(elapsed_time)\n",
    "    count = submission(naive_bayes, model_name, df_test, count)\n",
    "\n",
    "\n",
    "    # Logistic Regression\n",
    "    t_0 = timeit.default_timer()\n",
    "    model_name = \"Logistic Regression\"\n",
    "    lr = LogisticRegression(max_iter=1000)\n",
    "    coeff, score = model_fit_pred(lr, X_train, y_train, X_test, y_test)\n",
    "    t_1 = timeit.default_timer()\n",
    "    elapsed_time = round((t_1 - t_0) * 10 ** 6 / 1000000, 3)\n",
    "    model_names.append(model_name)\n",
    "    model_coeffs.append(coeff)\n",
    "    model_scores.append(score)\n",
    "    model_time.append(elapsed_time)\n",
    "    count = submission(lr, model_name, df_test, count)\n",
    "\n",
    "    # K-Nearest Neighbours\n",
    "    t_0 = timeit.default_timer()\n",
    "    model_name = \"K-Nearest Neighbours\"\n",
    "    knn = KNeighborsClassifier(algorithm = 'brute', n_jobs=-1)\n",
    "    coeff, score = model_fit_pred(knn, X_train, y_train, X_test, y_test)\n",
    "    t_1 = timeit.default_timer()\n",
    "    elapsed_time = round((t_1 - t_0) * 10 ** 6 / 1000000, 3)\n",
    "    model_names.append(model_name)\n",
    "    model_coeffs.append(coeff)\n",
    "    model_scores.append(score)\n",
    "    model_time.append(elapsed_time)\n",
    "    count = submission(knn, model_name, df_test, count)\n",
    "\n",
    "    # Support Vector Machine\n",
    "    t_0 = timeit.default_timer()\n",
    "    model_name = \"Support Vector Machine\"\n",
    "    svm=LinearSVC(C=0.0001)\n",
    "    coeff, score = model_fit_pred(svm, X_train, y_train, X_test, y_test)\n",
    "    t_1 = timeit.default_timer()\n",
    "    elapsed_time = round((t_1 - t_0) * 10 ** 6 / 1000000, 3)\n",
    "    model_names.append(model_name)\n",
    "    model_coeffs.append(coeff)\n",
    "    model_scores.append(score)\n",
    "    model_time.append(elapsed_time)\n",
    "    count = submission(svm, model_name, df_test, count)\n",
    "\n",
    "    # Decision Tree\n",
    "    t_0 = timeit.default_timer()\n",
    "    model_name = \"Decision Tree\"\n",
    "    clf = DecisionTreeClassifier()\n",
    "    coeff, score = model_fit_pred(clf, X_train, y_train, X_test, y_test)\n",
    "    t_1 = timeit.default_timer()\n",
    "    elapsed_time = round((t_1 - t_0) * 10 ** 6 / 1000000, 3)\n",
    "    model_names.append(model_name)\n",
    "    model_coeffs.append(coeff)\n",
    "    model_scores.append(score)\n",
    "    model_time.append(elapsed_time)\n",
    "    count = submission(clf, model_name, df_test, count)\n",
    "\n",
    "    # bagging decision tree (Ensemble learning I)\n",
    "    t_0 = timeit.default_timer()\n",
    "    model_name = \"Bagging Decision Tree\"\n",
    "    bg = BaggingClassifier(DecisionTreeClassifier(),max_samples=0.5,max_features=1.0,n_estimators=10)\n",
    "    coeff, score = model_fit_pred(bg, X_train, y_train, X_test, y_test)\n",
    "    t_1 = timeit.default_timer()\n",
    "    elapsed_time = round((t_1 - t_0) * 10 ** 6 / 1000000, 3)\n",
    "    model_names.append(model_name)\n",
    "    model_coeffs.append(coeff)\n",
    "    model_scores.append(score)\n",
    "    model_time.append(elapsed_time)\n",
    "    count = submission(bg, model_name, df_test, count)\n",
    "\n",
    "    # Boosting decision tree (Ensemble learning II)\n",
    "    t_0 = timeit.default_timer()\n",
    "    model_name = \"Boosting Decision Tree\"\n",
    "    adb = AdaBoostClassifier(DecisionTreeClassifier(min_samples_split=10,max_depth=4),n_estimators=10,learning_rate=0.6)\n",
    "    coeff, score = model_fit_pred(adb, X_train, y_train, X_test, y_test)\n",
    "    t_1 = timeit.default_timer()\n",
    "    elapsed_time = round((t_1 - t_0) * 10 ** 6 / 1000000, 3)\n",
    "    model_names.append(model_name)\n",
    "    model_coeffs.append(coeff)\n",
    "    model_scores.append(score)\n",
    "    model_time.append(elapsed_time)\n",
    "    count = submission(adb, model_name, df_test, count)\n",
    "\n",
    "    # Random Forest (Ensemble Learning III)\n",
    "    t_0 = timeit.default_timer()\n",
    "    model_name = \"Random Forest\"\n",
    "    rf = RandomForestClassifier(n_estimators=30, max_depth=9)\n",
    "    coeff, score = model_fit_pred(rf, X_train, y_train, X_test, y_test)\n",
    "    t_1 = timeit.default_timer()\n",
    "    elapsed_time = round((t_1 - t_0) * 10 ** 6 / 1000000, 3)\n",
    "    model_names.append(model_name)\n",
    "    model_coeffs.append(coeff)\n",
    "    model_scores.append(score)\n",
    "    model_time.append(elapsed_time)\n",
    "    count = submission(rf, model_name, df_test, count)\n",
    "\n",
    "    \"\"\"\n",
    "    # Voting Classifier (Ensemble Learning IV)\n",
    "    t_0 = timeit.default_timer()\n",
    "    model_name = \"Voting Classifier - hard\"\n",
    "    evc = VotingClassifier(estimators = [('naive_bayes',naive_bayes),('Linear Regression',lr),('Random Forest',rf),('SVM',svm)],\n",
    "                            voting='hard', n_jobs = -1)\n",
    "    coeff, score = model_fit_pred(evc, X_train, y_train, X_test, y_test)\n",
    "    t_1 = timeit.default_timer()\n",
    "    elapsed_time = round((t_1 - t_0) * 10 ** 6 / 1000000, 3)\n",
    "    model_names.append(model_name)\n",
    "    model_coeffs.append(coeff)\n",
    "    model_scores.append(score)\n",
    "    model_time.append(elapsed_time)\n",
    "    count = submission(evc, model_name, df_test, count)\n",
    "\n",
    "    # Voting Classifier (Ensemble Learning IV)\n",
    "    t_0 = timeit.default_timer()\n",
    "    model_name = \"Voting Classifier - Soft\"\n",
    "    evc = VotingClassifier(estimators = [('naive_bayes',naive_bayes),('Linear Regression',lr),('Random Forest',rf),('SVM',svm)],\n",
    "                            voting='soft', n_jobs = -1)\n",
    "    coeff, score = model_fit_pred(evc, X_train, y_train, X_test, y_test)\n",
    "    t_1 = timeit.default_timer()\n",
    "    elapsed_time = round((t_1 - t_0) * 10 ** 6 / 1000000, 3)\n",
    "    model_names.append(model_name)\n",
    "    model_coeffs.append(coeff)\n",
    "    model_scores.append(score)\n",
    "    model_time.append(elapsed_time)\n",
    "    count = submission(evc, model_name, df_test, count)\n",
    "\n",
    "    \n",
    "    # Neural Network - Deep learning\n",
    "    t_0 = timeit.default_timer()\n",
    "    model = \"Neural Network\"\n",
    "    # split an additional validation dataset\n",
    "    validation_split=1000\n",
    "    x_validation=X_train[:validation_split]\n",
    "    x_partial_train=X_train[validation_split:]\n",
    "    y_validation=y_train[:validation_split]\n",
    "    y_partial_train=y_train[validation_split:]\n",
    "    model=models.Sequential()\n",
    "    model.add(layers.Dense(16,activation='relu',input_shape=(10000,)))\n",
    "    model.add(layers.Dense(16,activation='relu'))\n",
    "    model.add(layers.Dense(1,activation='sigmoid'))\n",
    "    model.compile(optimizer='rmsprop',loss='binary_crossentropy',metrics=['accuracy'])\n",
    "    model.fit(x_partial_train,y_partial_train,epochs=4,batch_size=512,validation_data=(x_validation,y_validation))\n",
    "    coeff = model.coef_\n",
    "    y_pred = model.predict(X_test)\n",
    "    score = log_loss(y_test, y_pred)\n",
    "    t_1 = timeit.default_timer()\n",
    "    elapsed_time = round((t_1 - t_0) * 10 ** 6 / 1000000, 3)\n",
    "    model_names.append(model)\n",
    "    model_coeffs.append(coeff)\n",
    "    model_scores.append(score)\n",
    "    model_time.append(elapsed_time)\n",
    "\n",
    "    # Neural Network - handling overfitting\n",
    "    t_0 = timeit.default_timer()\n",
    "    model = \"Neural Network- Handling Overfitting\"\n",
    "    # add validation dataset\n",
    "    validation_split=1000\n",
    "    x_validation=X_train[:validation_split]\n",
    "    x_partial_train=X_train[validation_split:]\n",
    "    y_validation=y_train[:validation_split]\n",
    "    y_partial_train=y_train[validation_split:]\n",
    "    model=models.Sequential()\n",
    "    model.add(layers.Dense(8,kernel_regularizer=regularizers.l2(0.003),activation='relu',input_shape=(10000,)))\n",
    "    model.add(layers.Dropout(0.5))\n",
    "    model.add(layers.Dense(8,kernel_regularizer=regularizers.l2(0.003),activation='relu'))\n",
    "    model.add(layers.Dropout(0.6))\n",
    "    model.add(layers.Dense(1,activation='sigmoid'))\n",
    "    model.compile(optimizer='rmsprop',loss='binary_crossentropy',metrics=['accuracy'])\n",
    "    model.fit(x_partial_train,y_partial_train,epochs=4,batch_size=512,validation_data=(x_validation,y_validation))\n",
    "    coeff = model.coef_\n",
    "    y_pred = model.predict(X_test)\n",
    "    score = log_loss(y_test, y_pred)\n",
    "    t_1 = timeit.default_timer()\n",
    "    elapsed_time = round((t_1 - t_0) * 10 ** 6 / 1000000, 3)\n",
    "    model_names.append(model)\n",
    "    model_coeffs.append(coeff)\n",
    "    model_scores.append(score)\n",
    "    model_time.append(elapsed_time)\n",
    "    \"\"\"\n",
    "    return model_names, model_coeffs, model_scores, model_time, count"
   ]
  },
  {
   "cell_type": "code",
   "execution_count": 111,
   "id": "2079d1dd",
   "metadata": {},
   "outputs": [
    {
     "name": "stdout",
     "output_type": "stream",
     "text": [
      "submissions/Untuned submission No.1 - Naive Bayes - Gaussian.csv\n",
      "submissions/Untuned submission No.2 - Naive Bayes - Multinomial.csv\n",
      "submissions/Untuned submission No.3 - Logistic Regression.csv\n",
      "submissions/Untuned submission No.4 - K-Nearest Neighbours.csv\n",
      "submissions/Untuned submission No.5 - Support Vector Machine.csv\n",
      "submissions/Untuned submission No.6 - Decision Tree.csv\n",
      "submissions/Untuned submission No.7 - Bagging Decision Tree.csv\n",
      "submissions/Untuned submission No.8 - Boosting Decision Tree.csv\n",
      "submissions/Untuned submission No.9 - Random Forest.csv\n"
     ]
    }
   ],
   "source": [
    "test_size = 0.2\n",
    "model_names, model_coeffs, model_scores, model_time, count = models_basic (X, y, test_size, count)"
   ]
  },
  {
   "cell_type": "code",
   "execution_count": 112,
   "id": "923d3f96",
   "metadata": {},
   "outputs": [],
   "source": [
    "df_model_outcomes = pd.DataFrame({\"Models\": model_names,\n",
    "                                    \"Internal Log Loss Score\": model_scores,\n",
    "                                    \"Time Lapsed (s)\": model_time})"
   ]
  },
  {
   "cell_type": "code",
   "execution_count": 113,
   "id": "e116ce65",
   "metadata": {},
   "outputs": [],
   "source": [
    "df_model_outcomes = df_model_outcomes.sort_values(by = \"Internal Log Loss Score\").set_index('Models')"
   ]
  },
  {
   "cell_type": "code",
   "execution_count": 114,
   "id": "1b9c6105",
   "metadata": {},
   "outputs": [
    {
     "data": {
      "text/html": [
       "<div>\n",
       "<style scoped>\n",
       "    .dataframe tbody tr th:only-of-type {\n",
       "        vertical-align: middle;\n",
       "    }\n",
       "\n",
       "    .dataframe tbody tr th {\n",
       "        vertical-align: top;\n",
       "    }\n",
       "\n",
       "    .dataframe thead th {\n",
       "        text-align: right;\n",
       "    }\n",
       "</style>\n",
       "<table border=\"1\" class=\"dataframe\">\n",
       "  <thead>\n",
       "    <tr style=\"text-align: right;\">\n",
       "      <th></th>\n",
       "      <th>Internal Log Loss Score</th>\n",
       "      <th>Time Lapsed (s)</th>\n",
       "    </tr>\n",
       "    <tr>\n",
       "      <th>Models</th>\n",
       "      <th></th>\n",
       "      <th></th>\n",
       "    </tr>\n",
       "  </thead>\n",
       "  <tbody>\n",
       "    <tr>\n",
       "      <th>Random Forest</th>\n",
       "      <td>7.036610</td>\n",
       "      <td>0.613</td>\n",
       "    </tr>\n",
       "    <tr>\n",
       "      <th>Boosting Decision Tree</th>\n",
       "      <td>8.232377</td>\n",
       "      <td>4.027</td>\n",
       "    </tr>\n",
       "    <tr>\n",
       "      <th>Bagging Decision Tree</th>\n",
       "      <td>8.416324</td>\n",
       "      <td>6.409</td>\n",
       "    </tr>\n",
       "    <tr>\n",
       "      <th>Logistic Regression</th>\n",
       "      <td>8.508325</td>\n",
       "      <td>4.991</td>\n",
       "    </tr>\n",
       "    <tr>\n",
       "      <th>Support Vector Machine</th>\n",
       "      <td>8.968237</td>\n",
       "      <td>0.360</td>\n",
       "    </tr>\n",
       "    <tr>\n",
       "      <th>Decision Tree</th>\n",
       "      <td>9.474132</td>\n",
       "      <td>1.708</td>\n",
       "    </tr>\n",
       "    <tr>\n",
       "      <th>K-Nearest Neighbours</th>\n",
       "      <td>9.704091</td>\n",
       "      <td>0.623</td>\n",
       "    </tr>\n",
       "    <tr>\n",
       "      <th>Naive Bayes - Gaussian</th>\n",
       "      <td>12.739587</td>\n",
       "      <td>0.394</td>\n",
       "    </tr>\n",
       "    <tr>\n",
       "      <th>Naive Bayes - Multinomial</th>\n",
       "      <td>13.889173</td>\n",
       "      <td>0.113</td>\n",
       "    </tr>\n",
       "  </tbody>\n",
       "</table>\n",
       "</div>"
      ],
      "text/plain": [
       "                           Internal Log Loss Score  Time Lapsed (s)\n",
       "Models                                                             \n",
       "Random Forest                             7.036610            0.613\n",
       "Boosting Decision Tree                    8.232377            4.027\n",
       "Bagging Decision Tree                     8.416324            6.409\n",
       "Logistic Regression                       8.508325            4.991\n",
       "Support Vector Machine                    8.968237            0.360\n",
       "Decision Tree                             9.474132            1.708\n",
       "K-Nearest Neighbours                      9.704091            0.623\n",
       "Naive Bayes - Gaussian                   12.739587            0.394\n",
       "Naive Bayes - Multinomial                13.889173            0.113"
      ]
     },
     "execution_count": 114,
     "metadata": {},
     "output_type": "execute_result"
    }
   ],
   "source": [
    "df_model_outcomes"
   ]
  },
  {
   "cell_type": "markdown",
   "id": "cf88b241",
   "metadata": {},
   "source": [
    "Log loss score on submission to Kaggle is as shown below, from best performing to worst performing (lower is better):\n",
    "\n",
    "|Model|Kaggle Private Score|Kaggle Public Score|\n",
    "|---|---|---|\n",
    "|Random Forest|0.46893|0.49431|\n",
    "|Logistic Regression|0.53486|0.6222|\n",
    "|Boosting Decision Tree|0.63142|0.65456|\n",
    "|Support Vector Machine|0.64271|0.64552|\n",
    "|Bagging Decision Tree|0.84348|0.94574|\n",
    "|K-Nearest Neighbours|1.47296|1.91105|\n",
    "|Naive Bayes - Multinomial|2.45797|2.71612|\n",
    "|Naive Bayes - Gaussian|12.34188|13.11529|"
   ]
  },
  {
   "cell_type": "code",
   "execution_count": 115,
   "id": "372fb19f",
   "metadata": {},
   "outputs": [],
   "source": [
    "df_model_outcomes['Kaggle Log Loss Score'] = [0.46893, 0.84348, 0.63142, 0.53486, 0.64271, 1.47296, 9.40804, 12.34188, 2.45797]"
   ]
  },
  {
   "cell_type": "code",
   "execution_count": 116,
   "id": "4b554c6a",
   "metadata": {},
   "outputs": [
    {
     "data": {
      "text/html": [
       "<div>\n",
       "<style scoped>\n",
       "    .dataframe tbody tr th:only-of-type {\n",
       "        vertical-align: middle;\n",
       "    }\n",
       "\n",
       "    .dataframe tbody tr th {\n",
       "        vertical-align: top;\n",
       "    }\n",
       "\n",
       "    .dataframe thead th {\n",
       "        text-align: right;\n",
       "    }\n",
       "</style>\n",
       "<table border=\"1\" class=\"dataframe\">\n",
       "  <thead>\n",
       "    <tr style=\"text-align: right;\">\n",
       "      <th></th>\n",
       "      <th>Internal Log Loss Score</th>\n",
       "      <th>Time Lapsed (s)</th>\n",
       "      <th>Kaggle Log Loss Score</th>\n",
       "    </tr>\n",
       "    <tr>\n",
       "      <th>Models</th>\n",
       "      <th></th>\n",
       "      <th></th>\n",
       "      <th></th>\n",
       "    </tr>\n",
       "  </thead>\n",
       "  <tbody>\n",
       "    <tr>\n",
       "      <th>Random Forest</th>\n",
       "      <td>7.036610</td>\n",
       "      <td>0.613</td>\n",
       "      <td>0.46893</td>\n",
       "    </tr>\n",
       "    <tr>\n",
       "      <th>Boosting Decision Tree</th>\n",
       "      <td>8.232377</td>\n",
       "      <td>4.027</td>\n",
       "      <td>0.84348</td>\n",
       "    </tr>\n",
       "    <tr>\n",
       "      <th>Bagging Decision Tree</th>\n",
       "      <td>8.416324</td>\n",
       "      <td>6.409</td>\n",
       "      <td>0.63142</td>\n",
       "    </tr>\n",
       "    <tr>\n",
       "      <th>Logistic Regression</th>\n",
       "      <td>8.508325</td>\n",
       "      <td>4.991</td>\n",
       "      <td>0.53486</td>\n",
       "    </tr>\n",
       "    <tr>\n",
       "      <th>Support Vector Machine</th>\n",
       "      <td>8.968237</td>\n",
       "      <td>0.360</td>\n",
       "      <td>0.64271</td>\n",
       "    </tr>\n",
       "    <tr>\n",
       "      <th>Decision Tree</th>\n",
       "      <td>9.474132</td>\n",
       "      <td>1.708</td>\n",
       "      <td>1.47296</td>\n",
       "    </tr>\n",
       "    <tr>\n",
       "      <th>K-Nearest Neighbours</th>\n",
       "      <td>9.704091</td>\n",
       "      <td>0.623</td>\n",
       "      <td>9.40804</td>\n",
       "    </tr>\n",
       "    <tr>\n",
       "      <th>Naive Bayes - Gaussian</th>\n",
       "      <td>12.739587</td>\n",
       "      <td>0.394</td>\n",
       "      <td>12.34188</td>\n",
       "    </tr>\n",
       "    <tr>\n",
       "      <th>Naive Bayes - Multinomial</th>\n",
       "      <td>13.889173</td>\n",
       "      <td>0.113</td>\n",
       "      <td>2.45797</td>\n",
       "    </tr>\n",
       "  </tbody>\n",
       "</table>\n",
       "</div>"
      ],
      "text/plain": [
       "                           Internal Log Loss Score  Time Lapsed (s)  \\\n",
       "Models                                                                \n",
       "Random Forest                             7.036610            0.613   \n",
       "Boosting Decision Tree                    8.232377            4.027   \n",
       "Bagging Decision Tree                     8.416324            6.409   \n",
       "Logistic Regression                       8.508325            4.991   \n",
       "Support Vector Machine                    8.968237            0.360   \n",
       "Decision Tree                             9.474132            1.708   \n",
       "K-Nearest Neighbours                      9.704091            0.623   \n",
       "Naive Bayes - Gaussian                   12.739587            0.394   \n",
       "Naive Bayes - Multinomial                13.889173            0.113   \n",
       "\n",
       "                           Kaggle Log Loss Score  \n",
       "Models                                            \n",
       "Random Forest                            0.46893  \n",
       "Boosting Decision Tree                   0.84348  \n",
       "Bagging Decision Tree                    0.63142  \n",
       "Logistic Regression                      0.53486  \n",
       "Support Vector Machine                   0.64271  \n",
       "Decision Tree                            1.47296  \n",
       "K-Nearest Neighbours                     9.40804  \n",
       "Naive Bayes - Gaussian                  12.34188  \n",
       "Naive Bayes - Multinomial                2.45797  "
      ]
     },
     "execution_count": 116,
     "metadata": {},
     "output_type": "execute_result"
    }
   ],
   "source": [
    "df_model_outcomes"
   ]
  },
  {
   "cell_type": "code",
   "execution_count": 117,
   "id": "79267913",
   "metadata": {},
   "outputs": [
    {
     "data": {
      "image/png": "[encoded data removed]",
      "text/plain": [
       "<Figure size 432x288 with 1 Axes>"
      ]
     },
     "metadata": {
      "needs_background": "light"
     },
     "output_type": "display_data"
    }
   ],
   "source": [
    "# plotting to show the relationship between internal and external scores, and time taken \n",
    "plt.plot(df_model_outcomes['Kaggle Log Loss Score'], label = 'Kaggle Log Loss Score')\n",
    "plt.plot(df_model_outcomes['Internal Log Loss Score'], label = 'Internal Log Loss Score')\n",
    "plt.plot(df_model_outcomes['Time Lapsed (s)'], label = 'Time Lapsed (s)')\n",
    "plt.xlabel('Models')\n",
    "plt.title(\"Relationship Between Internal and External Scores, and Time Taken\")\n",
    "plt.xticks(rotation = 90)\n",
    "plt.legend()\n",
    "plt.show()"
   ]
  },
  {
   "cell_type": "markdown",
   "id": "df2feeb0",
   "metadata": {},
   "source": [
    "## FEATURE ENGINEERING"
   ]
  },
  {
   "cell_type": "markdown",
   "id": "3cde80cc",
   "metadata": {},
   "source": [
    "For feature engineering, the following will be considered:\n",
    "1. Regularization of the continous independent features\n",
    "2. Regularization of all the independent features\n",
    "\n",
    "Elastic net regression wiill be used"
   ]
  },
  {
   "cell_type": "code",
   "execution_count": 118,
   "id": "1857dbbb",
   "metadata": {},
   "outputs": [],
   "source": [
    "# importing ElasticNet module\n",
    "from sklearn.linear_model import ElasticNet"
   ]
  },
  {
   "cell_type": "markdown",
   "id": "6567f1cc",
   "metadata": {},
   "source": [
    "### a) Regularization of Continous Independent Features"
   ]
  },
  {
   "cell_type": "code",
   "execution_count": 119,
   "id": "770441e1",
   "metadata": {},
   "outputs": [],
   "source": [
    "# Get training and testing data, with test size of test_size\n",
    "X_train, X_test, y_train, y_test = train_test_split(X, y, \n",
    "                                                        test_size = test_size, \n",
    "                                                        random_state = 42)"
   ]
  },
  {
   "cell_type": "code",
   "execution_count": 120,
   "id": "e6f4d804",
   "metadata": {},
   "outputs": [
    {
     "name": "stdout",
     "output_type": "stream",
     "text": [
      "942\n"
     ]
    }
   ],
   "source": [
    "# normal_columns list contains column headers for continuous independent features\n",
    "normal_features = normal_columns[:-1]\n",
    "print(len(normal_features))"
   ]
  },
  {
   "cell_type": "code",
   "execution_count": 121,
   "id": "6deb2dbd",
   "metadata": {},
   "outputs": [],
   "source": [
    "# importing ElasticNet module\n",
    "from sklearn.linear_model import ElasticNet"
   ]
  },
  {
   "cell_type": "code",
   "execution_count": 122,
   "id": "82506e5f",
   "metadata": {},
   "outputs": [
    {
     "name": "stdout",
     "output_type": "stream",
     "text": [
      "Intercept:  0.5336666666666666\n",
      "submissions/Untuned submission No.10 - ElasticNet Regression Regularization.csv\n",
      "Log loss score:  0.685092902309101\n"
     ]
    }
   ],
   "source": [
    "# creating elstic net model object, with alpha at 1.0\n",
    "elastic = ElasticNet(alpha = 1.0, l1_ratio = 0.5)\n",
    "# fitting model to the dataset\n",
    "elastic.fit(X_train[normal_features], y_train)\n",
    "# Extracting the intercept from the model\n",
    "intercept_elastic = float(elastic.intercept_)\n",
    "print(\"Intercept: \", intercept_elastic)\n",
    "# Extracting the coefficients from the model\n",
    "coeff = pd.DataFrame(elastic.coef_, normal_features, columns=['Coefficient'])\n",
    "#checking accuracy of testing set\n",
    "test_pred = elastic.predict(X_test[normal_features])\n",
    "# score\n",
    "score = log_loss(y_test, test_pred)\n",
    "\n",
    "#preparing submission file\n",
    "l = len(df_test)\n",
    "moleculeID = []\n",
    "for i in range(l):\n",
    "    i = i + 1\n",
    "    moleculeID.append(i)\n",
    "y_pred = elastic.predict(df_test[normal_features])\n",
    "df_pred = pd.DataFrame({\"MoleculeId\": moleculeID, \"PredictedProbability\": y_pred})\n",
    "path = \"submissions/\"\n",
    "model_name = \"ElasticNet Regression Regularization\"\n",
    "file_name = path + \"Untuned submission No.\" + str(count) + \" - \" + model_name + \".csv\"\n",
    "print (file_name)\n",
    "\n",
    "print (\"Log loss score: \", score)\n",
    "df_pred.to_csv(file_name, index = False)\n",
    "count = count + 1"
   ]
  },
  {
   "cell_type": "markdown",
   "id": "c2c9aaf0",
   "metadata": {},
   "source": [
    "As for both options, the score and intercepts are the same, then it can be concluded that the binary columns do not need to be excluded from the regularization process.\n",
    "\n",
    "Also, comparing the scores of the regularization with the model scores for untuned data, it is clear that regularization is marginally beneficial, as it will come at number 5 in the table shown above for Kaggle scores.\n",
    "It has:\n",
    "* Private score of 0.68822\n",
    "* Public score of 0.69185"
   ]
  },
  {
   "cell_type": "markdown",
   "id": "b679f1c1",
   "metadata": {},
   "source": [
    "## Hyperparameter tuning"
   ]
  },
  {
   "cell_type": "markdown",
   "id": "1c771b68",
   "metadata": {},
   "source": [
    "For tuning of hyperparameters, the following models will be considered:\n",
    "* Random Forest\n",
    "* Logistic Regression\n",
    "* Boosting Decision Tree\n",
    "* Support Vector Machine\n",
    "\n",
    "Algorithms that will be considered are:\n",
    "* Random Random Search\n",
    "* Grid search\n"
   ]
  },
  {
   "attachments": {},
   "cell_type": "markdown",
   "id": "9cf883cc",
   "metadata": {},
   "source": [
    "### Random Forest"
   ]
  },
  {
   "attachments": {},
   "cell_type": "markdown",
   "id": "7f990f09",
   "metadata": {},
   "source": [
    "#### *Random Search*"
   ]
  },
  {
   "cell_type": "code",
   "execution_count": null,
   "id": "27a97515",
   "metadata": {},
   "outputs": [],
   "source": [
    "# I will create a function that will run all the algorithms and save in a dictionary\n",
    "from sklearn.model_selection import RandomizedSearchCV\n",
    "\n",
    "model_names = []\n",
    "model_coeffs = []\n",
    "model_scores = []\n",
    "model_time = []\n",
    "count = 1\n",
    "\n",
    "\"\"\"\n",
    "    function to output submission files\n",
    "\"\"\"\n",
    "def submission(model, model_name, df_test, count):\n",
    "    # predicting \"activity\" for unseen dataset\n",
    "    l = len(df_test)+1\n",
    "    try:\n",
    "        y_pred = model.predict_proba(df_test)\n",
    "    except AttributeError:\n",
    "        y_pred = model._predict_proba_lr(df_test)\n",
    "    except:\n",
    "        y_pred = [x for x in range(1,l)]\n",
    "    #preparing submission file\n",
    "    l = len(df_test)\n",
    "    moleculeID = []\n",
    "    for i in range(l):\n",
    "        i = i + 1\n",
    "        moleculeID.append(i)\n",
    "    y_pred_class1 = [i[1] for i in y_pred]\n",
    "    y_pred_class0 = [i[0] for i in y_pred]\n",
    "    df_pred = pd.DataFrame({\"MoleculeId\": moleculeID, \"PredictedProbability\": y_pred_class1})\n",
    "    path = \"submissions/\"\n",
    "    file_name = path + \"Tuned submission No.\" + str(count) + \" - \" + model_name + \".csv\"\n",
    "    print (file_name)\n",
    "    df_pred.to_csv(file_name, index = False)\n",
    "    count = count + 1\n",
    "    return count\n",
    "\n",
    "\"\"\"\n",
    "    function to fit model and generate predictions\n",
    "\"\"\"\n",
    "def model_fit_pred(model_, X_train, y_train, X_test, y_test):\n",
    "    model_.fit(X_train, y_train)\n",
    "    # coeff = model_.coef_\n",
    "    coeff = 0\n",
    "    y_pred = model_.predict(X_test)\n",
    "    score = log_loss(y_test, y_pred)\n",
    "    return coeff, score\n",
    "\n",
    "\n",
    "\"\"\"\n",
    "    Function that contains all relevant algorithms for prediction\n",
    "\"\"\"\n",
    "def models_basic (X, y, test_size, count):\n",
    "    # Get training and testing data, with test size of test_size\n",
    "    X_train, X_test, y_train, y_test = train_test_split(X, y, \n",
    "                                                        test_size = test_size, \n",
    "                                                        random_state = 42)\n",
    "\n",
    "    # Logistic Regression\n",
    "    t_0 = timeit.default_timer()\n",
    "    model_name = \"Logistic Regression\"\n",
    "    lr = LogisticRegression(max_iter=1000)\n",
    "    coeff, score = model_fit_pred(lr, X_train, y_train, X_test, y_test)\n",
    "    t_1 = timeit.default_timer()\n",
    "    elapsed_time = round((t_1 - t_0) * 10 ** 6 / 1000000, 3)\n",
    "    model_names.append(model_name)\n",
    "    model_coeffs.append(coeff)\n",
    "    model_scores.append(score)\n",
    "    model_time.append(elapsed_time)\n",
    "    count = submission(lr, model_name, df_test, count)\n",
    "\n",
    "    # Support Vector Machine\n",
    "    t_0 = timeit.default_timer()\n",
    "    model_name = \"Support Vector Machine\"\n",
    "    svm=LinearSVC(C=0.0001)\n",
    "    coeff, score = model_fit_pred(svm, X_train, y_train, X_test, y_test)\n",
    "    t_1 = timeit.default_timer()\n",
    "    elapsed_time = round((t_1 - t_0) * 10 ** 6 / 1000000, 3)\n",
    "    model_names.append(model_name)\n",
    "    model_coeffs.append(coeff)\n",
    "    model_scores.append(score)\n",
    "    model_time.append(elapsed_time)\n",
    "    count = submission(svm, model_name, df_test, count)\n",
    "\n",
    "    # Boosting decision tree (Ensemble learning II)\n",
    "    t_0 = timeit.default_timer()\n",
    "    model_name = \"Boosting Decision Tree\"\n",
    "    adb = AdaBoostClassifier(DecisionTreeClassifier(min_samples_split=10,max_depth=4),n_estimators=10,learning_rate=0.6)\n",
    "    coeff, score = model_fit_pred(adb, X_train, y_train, X_test, y_test)\n",
    "    t_1 = timeit.default_timer()\n",
    "    elapsed_time = round((t_1 - t_0) * 10 ** 6 / 1000000, 3)\n",
    "    model_names.append(model_name)\n",
    "    model_coeffs.append(coeff)\n",
    "    model_scores.append(score)\n",
    "    model_time.append(elapsed_time)\n",
    "    count = submission(adb, model_name, df_test, count)\n",
    "\n",
    "    # Random Forest (Ensemble Learning III)\n",
    "    t_0 = timeit.default_timer()\n",
    "    model_name = \"Random Forest\"\n",
    "    rf = RandomForestClassifier(n_estimators=30, max_depth=9)\n",
    "    coeff, score = model_fit_pred(rf, X_train, y_train, X_test, y_test)\n",
    "    t_1 = timeit.default_timer()\n",
    "    elapsed_time = round((t_1 - t_0) * 10 ** 6 / 1000000, 3)\n",
    "    model_names.append(model_name)\n",
    "    model_coeffs.append(coeff)\n",
    "    model_scores.append(score)\n",
    "    model_time.append(elapsed_time)\n",
    "    count = submission(rf, model_name, df_test, count)\n",
    "\n",
    "    return model_names, model_coeffs, model_scores, model_time, count"
   ]
  },
  {
   "cell_type": "code",
   "execution_count": null,
   "id": "56fdb073",
   "metadata": {},
   "outputs": [],
   "source": [
    "def evaluate(model, X_test, y_test):\n",
    "    y_pred = model.predict(X_test)\n",
    "    score = log_loss(y_test, y_pred)\n",
    "    return score"
   ]
  },
  {
   "cell_type": "code",
   "execution_count": null,
   "id": "845fdaa3",
   "metadata": {},
   "outputs": [],
   "source": [
    "# Number of trees in random forest\n",
    "n_estimators = [int(x) for x in np.linspace(start = 10, stop = 2000, num = 5)]\n",
    "# Number of features to consider at every split\n",
    "max_features = ['auto', 'sqrt']\n",
    "# Maximum number of levels in tree\n",
    "max_depth = [int(x) for x in np.linspace(10, 110, num = 11)]\n",
    "max_depth.append(None)\n",
    "# Minimum number of samples required to split a node\n",
    "min_samples_split = [2, 5, 10]\n",
    "# Minimum number of samples required at each leaf node\n",
    "min_samples_leaf = [1, 2, 4]\n",
    "# Method of selecting samples for training each tree\n",
    "bootstrap = [True, False]\n",
    "# Create the random grid\n",
    "random_grid = {'n_estimators': n_estimators,\n",
    "               'max_features': max_features,\n",
    "               'max_depth': max_depth,\n",
    "               'min_samples_split': min_samples_split,\n",
    "               'min_samples_leaf': min_samples_leaf,\n",
    "               'bootstrap': bootstrap}"
   ]
  },
  {
   "cell_type": "code",
   "execution_count": null,
   "id": "95477d94",
   "metadata": {},
   "outputs": [
    {
     "name": "stdout",
     "output_type": "stream",
     "text": [
      "Fitting 3 folds for each of 100 candidates, totalling 300 fits\n"
     ]
    },
    {
     "data": {
      "text/html": [
       "<style>#sk-container-id-3 {color: black;background-color: white;}#sk-container-id-3 pre{padding: 0;}#sk-container-id-3 div.sk-toggleable {background-color: white;}#sk-container-id-3 label.sk-toggleable__label {cursor: pointer;display: block;width: 100%;margin-bottom: 0;padding: 0.3em;box-sizing: border-box;text-align: center;}#sk-container-id-3 label.sk-toggleable__label-arrow:before {content: \"▸\";float: left;margin-right: 0.25em;color: #696969;}#sk-container-id-3 label.sk-toggleable__label-arrow:hover:before {color: black;}#sk-container-id-3 div.sk-estimator:hover label.sk-toggleable__label-arrow:before {color: black;}#sk-container-id-3 div.sk-toggleable__content {max-height: 0;max-width: 0;overflow: hidden;text-align: left;background-color: #f0f8ff;}#sk-container-id-3 div.sk-toggleable__content pre {margin: 0.2em;color: black;border-radius: 0.25em;background-color: #f0f8ff;}#sk-container-id-3 input.sk-toggleable__control:checked~div.sk-toggleable__content {max-height: 200px;max-width: 100%;overflow: auto;}#sk-container-id-3 input.sk-toggleable__control:checked~label.sk-toggleable__label-arrow:before {content: \"▾\";}#sk-container-id-3 div.sk-estimator input.sk-toggleable__control:checked~label.sk-toggleable__label {background-color: #d4ebff;}#sk-container-id-3 div.sk-label input.sk-toggleable__control:checked~label.sk-toggleable__label {background-color: #d4ebff;}#sk-container-id-3 input.sk-hidden--visually {border: 0;clip: rect(1px 1px 1px 1px);clip: rect(1px, 1px, 1px, 1px);height: 1px;margin: -1px;overflow: hidden;padding: 0;position: absolute;width: 1px;}#sk-container-id-3 div.sk-estimator {font-family: monospace;background-color: #f0f8ff;border: 1px dotted black;border-radius: 0.25em;box-sizing: border-box;margin-bottom: 0.5em;}#sk-container-id-3 div.sk-estimator:hover {background-color: #d4ebff;}#sk-container-id-3 div.sk-parallel-item::after {content: \"\";width: 100%;border-bottom: 1px solid gray;flex-grow: 1;}#sk-container-id-3 div.sk-label:hover label.sk-toggleable__label {background-color: #d4ebff;}#sk-container-id-3 div.sk-serial::before {content: \"\";position: absolute;border-left: 1px solid gray;box-sizing: border-box;top: 0;bottom: 0;left: 50%;z-index: 0;}#sk-container-id-3 div.sk-serial {display: flex;flex-direction: column;align-items: center;background-color: white;padding-right: 0.2em;padding-left: 0.2em;position: relative;}#sk-container-id-3 div.sk-item {position: relative;z-index: 1;}#sk-container-id-3 div.sk-parallel {display: flex;align-items: stretch;justify-content: center;background-color: white;position: relative;}#sk-container-id-3 div.sk-item::before, #sk-container-id-3 div.sk-parallel-item::before {content: \"\";position: absolute;border-left: 1px solid gray;box-sizing: border-box;top: 0;bottom: 0;left: 50%;z-index: -1;}#sk-container-id-3 div.sk-parallel-item {display: flex;flex-direction: column;z-index: 1;position: relative;background-color: white;}#sk-container-id-3 div.sk-parallel-item:first-child::after {align-self: flex-end;width: 50%;}#sk-container-id-3 div.sk-parallel-item:last-child::after {align-self: flex-start;width: 50%;}#sk-container-id-3 div.sk-parallel-item:only-child::after {width: 0;}#sk-container-id-3 div.sk-dashed-wrapped {border: 1px dashed gray;margin: 0 0.4em 0.5em 0.4em;box-sizing: border-box;padding-bottom: 0.4em;background-color: white;}#sk-container-id-3 div.sk-label label {font-family: monospace;font-weight: bold;display: inline-block;line-height: 1.2em;}#sk-container-id-3 div.sk-label-container {text-align: center;}#sk-container-id-3 div.sk-container {/* jupyter's `normalize.less` sets `[hidden] { display: none; }` but bootstrap.min.css set `[hidden] { display: none !important; }` so we also need the `!important` here to be able to override the default hidden behavior on the sphinx rendered scikit-learn.org. See: https://github.com/scikit-learn/scikit-learn/issues/21755 */display: inline-block !important;position: relative;}#sk-container-id-3 div.sk-text-repr-fallback {display: none;}</style><div id=\"sk-container-id-3\" class=\"sk-top-container\"><div class=\"sk-text-repr-fallback\"><pre>RandomizedSearchCV(cv=3, estimator=RandomForestClassifier(), n_iter=100,\n",
       "                   n_jobs=-1,\n",
       "                   param_distributions={&#x27;bootstrap&#x27;: [True, False],\n",
       "                                        &#x27;max_depth&#x27;: [10, 20, 30, 40, 50, 60,\n",
       "                                                      70, 80, 90, 100, 110,\n",
       "                                                      None],\n",
       "                                        &#x27;max_features&#x27;: [&#x27;auto&#x27;, &#x27;sqrt&#x27;],\n",
       "                                        &#x27;min_samples_leaf&#x27;: [1, 2, 4],\n",
       "                                        &#x27;min_samples_split&#x27;: [2, 5, 10],\n",
       "                                        &#x27;n_estimators&#x27;: [10, 507, 1005, 1502,\n",
       "                                                         2000]},\n",
       "                   random_state=42, verbose=2)</pre><b>In a Jupyter environment, please rerun this cell to show the HTML representation or trust the notebook. <br />On GitHub, the HTML representation is unable to render, please try loading this page with nbviewer.org.</b></div><div class=\"sk-container\" hidden><div class=\"sk-item sk-dashed-wrapped\"><div class=\"sk-label-container\"><div class=\"sk-label sk-toggleable\"><input class=\"sk-toggleable__control sk-hidden--visually\" id=\"sk-estimator-id-3\" type=\"checkbox\" ><label for=\"sk-estimator-id-3\" class=\"sk-toggleable__label sk-toggleable__label-arrow\">RandomizedSearchCV</label><div class=\"sk-toggleable__content\"><pre>RandomizedSearchCV(cv=3, estimator=RandomForestClassifier(), n_iter=100,\n",
       "                   n_jobs=-1,\n",
       "                   param_distributions={&#x27;bootstrap&#x27;: [True, False],\n",
       "                                        &#x27;max_depth&#x27;: [10, 20, 30, 40, 50, 60,\n",
       "                                                      70, 80, 90, 100, 110,\n",
       "                                                      None],\n",
       "                                        &#x27;max_features&#x27;: [&#x27;auto&#x27;, &#x27;sqrt&#x27;],\n",
       "                                        &#x27;min_samples_leaf&#x27;: [1, 2, 4],\n",
       "                                        &#x27;min_samples_split&#x27;: [2, 5, 10],\n",
       "                                        &#x27;n_estimators&#x27;: [10, 507, 1005, 1502,\n",
       "                                                         2000]},\n",
       "                   random_state=42, verbose=2)</pre></div></div></div><div class=\"sk-parallel\"><div class=\"sk-parallel-item\"><div class=\"sk-item\"><div class=\"sk-label-container\"><div class=\"sk-label sk-toggleable\"><input class=\"sk-toggleable__control sk-hidden--visually\" id=\"sk-estimator-id-4\" type=\"checkbox\" ><label for=\"sk-estimator-id-4\" class=\"sk-toggleable__label sk-toggleable__label-arrow\">estimator: RandomForestClassifier</label><div class=\"sk-toggleable__content\"><pre>RandomForestClassifier()</pre></div></div></div><div class=\"sk-serial\"><div class=\"sk-item\"><div class=\"sk-estimator sk-toggleable\"><input class=\"sk-toggleable__control sk-hidden--visually\" id=\"sk-estimator-id-5\" type=\"checkbox\" ><label for=\"sk-estimator-id-5\" class=\"sk-toggleable__label sk-toggleable__label-arrow\">RandomForestClassifier</label><div class=\"sk-toggleable__content\"><pre>RandomForestClassifier()</pre></div></div></div></div></div></div></div></div></div></div>"
      ],
      "text/plain": [
       "RandomizedSearchCV(cv=3, estimator=RandomForestClassifier(), n_iter=100,\n",
       "                   n_jobs=-1,\n",
       "                   param_distributions={'bootstrap': [True, False],\n",
       "                                        'max_depth': [10, 20, 30, 40, 50, 60,\n",
       "                                                      70, 80, 90, 100, 110,\n",
       "                                                      None],\n",
       "                                        'max_features': ['auto', 'sqrt'],\n",
       "                                        'min_samples_leaf': [1, 2, 4],\n",
       "                                        'min_samples_split': [2, 5, 10],\n",
       "                                        'n_estimators': [10, 507, 1005, 1502,\n",
       "                                                         2000]},\n",
       "                   random_state=42, verbose=2)"
      ]
     },
     "metadata": {},
     "output_type": "display_data"
    }
   ],
   "source": [
    "# Use the random grid to search for best hyperparameters\n",
    "# First create the base model to tune\n",
    "rf = RandomForestClassifier()\n",
    "# Random search of parameters, using 3 fold cross validation, \n",
    "# search across 100 different combinations, and use all available cores\n",
    "rf_random = RandomizedSearchCV(estimator = rf, param_distributions = random_grid, n_iter = 100, cv = 3, verbose=2, random_state=42, n_jobs = -1)\n",
    "# Fit the random search model\n",
    "rf_random.fit(X_train, y_train)"
   ]
  },
  {
   "cell_type": "code",
   "execution_count": null,
   "id": "3dcb890e",
   "metadata": {},
   "outputs": [
    {
     "name": "stdout",
     "output_type": "stream",
     "text": [
      "Log loss score:  6.5767022571033715\n"
     ]
    }
   ],
   "source": [
    "best_random = rf_random.best_estimator_\n",
    "random_score = evaluate(best_random, X_test, y_test)\n",
    "print(\"Log loss score: \", random_score)"
   ]
  },
  {
   "cell_type": "code",
   "execution_count": null,
   "id": "4d49fd8c",
   "metadata": {},
   "outputs": [
    {
     "data": {
      "text/html": [
       "<style>#sk-container-id-4 {color: black;background-color: white;}#sk-container-id-4 pre{padding: 0;}#sk-container-id-4 div.sk-toggleable {background-color: white;}#sk-container-id-4 label.sk-toggleable__label {cursor: pointer;display: block;width: 100%;margin-bottom: 0;padding: 0.3em;box-sizing: border-box;text-align: center;}#sk-container-id-4 label.sk-toggleable__label-arrow:before {content: \"▸\";float: left;margin-right: 0.25em;color: #696969;}#sk-container-id-4 label.sk-toggleable__label-arrow:hover:before {color: black;}#sk-container-id-4 div.sk-estimator:hover label.sk-toggleable__label-arrow:before {color: black;}#sk-container-id-4 div.sk-toggleable__content {max-height: 0;max-width: 0;overflow: hidden;text-align: left;background-color: #f0f8ff;}#sk-container-id-4 div.sk-toggleable__content pre {margin: 0.2em;color: black;border-radius: 0.25em;background-color: #f0f8ff;}#sk-container-id-4 input.sk-toggleable__control:checked~div.sk-toggleable__content {max-height: 200px;max-width: 100%;overflow: auto;}#sk-container-id-4 input.sk-toggleable__control:checked~label.sk-toggleable__label-arrow:before {content: \"▾\";}#sk-container-id-4 div.sk-estimator input.sk-toggleable__control:checked~label.sk-toggleable__label {background-color: #d4ebff;}#sk-container-id-4 div.sk-label input.sk-toggleable__control:checked~label.sk-toggleable__label {background-color: #d4ebff;}#sk-container-id-4 input.sk-hidden--visually {border: 0;clip: rect(1px 1px 1px 1px);clip: rect(1px, 1px, 1px, 1px);height: 1px;margin: -1px;overflow: hidden;padding: 0;position: absolute;width: 1px;}#sk-container-id-4 div.sk-estimator {font-family: monospace;background-color: #f0f8ff;border: 1px dotted black;border-radius: 0.25em;box-sizing: border-box;margin-bottom: 0.5em;}#sk-container-id-4 div.sk-estimator:hover {background-color: #d4ebff;}#sk-container-id-4 div.sk-parallel-item::after {content: \"\";width: 100%;border-bottom: 1px solid gray;flex-grow: 1;}#sk-container-id-4 div.sk-label:hover label.sk-toggleable__label {background-color: #d4ebff;}#sk-container-id-4 div.sk-serial::before {content: \"\";position: absolute;border-left: 1px solid gray;box-sizing: border-box;top: 0;bottom: 0;left: 50%;z-index: 0;}#sk-container-id-4 div.sk-serial {display: flex;flex-direction: column;align-items: center;background-color: white;padding-right: 0.2em;padding-left: 0.2em;position: relative;}#sk-container-id-4 div.sk-item {position: relative;z-index: 1;}#sk-container-id-4 div.sk-parallel {display: flex;align-items: stretch;justify-content: center;background-color: white;position: relative;}#sk-container-id-4 div.sk-item::before, #sk-container-id-4 div.sk-parallel-item::before {content: \"\";position: absolute;border-left: 1px solid gray;box-sizing: border-box;top: 0;bottom: 0;left: 50%;z-index: -1;}#sk-container-id-4 div.sk-parallel-item {display: flex;flex-direction: column;z-index: 1;position: relative;background-color: white;}#sk-container-id-4 div.sk-parallel-item:first-child::after {align-self: flex-end;width: 50%;}#sk-container-id-4 div.sk-parallel-item:last-child::after {align-self: flex-start;width: 50%;}#sk-container-id-4 div.sk-parallel-item:only-child::after {width: 0;}#sk-container-id-4 div.sk-dashed-wrapped {border: 1px dashed gray;margin: 0 0.4em 0.5em 0.4em;box-sizing: border-box;padding-bottom: 0.4em;background-color: white;}#sk-container-id-4 div.sk-label label {font-family: monospace;font-weight: bold;display: inline-block;line-height: 1.2em;}#sk-container-id-4 div.sk-label-container {text-align: center;}#sk-container-id-4 div.sk-container {/* jupyter's `normalize.less` sets `[hidden] { display: none; }` but bootstrap.min.css set `[hidden] { display: none !important; }` so we also need the `!important` here to be able to override the default hidden behavior on the sphinx rendered scikit-learn.org. See: https://github.com/scikit-learn/scikit-learn/issues/21755 */display: inline-block !important;position: relative;}#sk-container-id-4 div.sk-text-repr-fallback {display: none;}</style><div id=\"sk-container-id-4\" class=\"sk-top-container\"><div class=\"sk-text-repr-fallback\"><pre>RandomForestClassifier(max_depth=90, max_features=&#x27;auto&#x27;, min_samples_split=5,\n",
       "                       n_estimators=1005)</pre><b>In a Jupyter environment, please rerun this cell to show the HTML representation or trust the notebook. <br />On GitHub, the HTML representation is unable to render, please try loading this page with nbviewer.org.</b></div><div class=\"sk-container\" hidden><div class=\"sk-item\"><div class=\"sk-estimator sk-toggleable\"><input class=\"sk-toggleable__control sk-hidden--visually\" id=\"sk-estimator-id-6\" type=\"checkbox\" checked><label for=\"sk-estimator-id-6\" class=\"sk-toggleable__label sk-toggleable__label-arrow\">RandomForestClassifier</label><div class=\"sk-toggleable__content\"><pre>RandomForestClassifier(max_depth=90, max_features=&#x27;auto&#x27;, min_samples_split=5,\n",
       "                       n_estimators=1005)</pre></div></div></div></div></div>"
      ],
      "text/plain": [
       "RandomForestClassifier(max_depth=90, max_features='auto', min_samples_split=5,\n",
       "                       n_estimators=1005)"
      ]
     },
     "metadata": {},
     "output_type": "display_data"
    }
   ],
   "source": [
    "# best hyperparameters\n",
    "best_random"
   ]
  },
  {
   "cell_type": "code",
   "execution_count": null,
   "id": "7b9a2377",
   "metadata": {},
   "outputs": [
    {
     "name": "stdout",
     "output_type": "stream",
     "text": [
      "submissions/Tuned submission No.1 - Random Forest.csv\n"
     ]
    },
    {
     "data": {
      "text/plain": [
       "2"
      ]
     },
     "metadata": {},
     "output_type": "display_data"
    }
   ],
   "source": [
    "model_name = \"Random Forest\"\n",
    "submission(best_random, model_name, df_test, count)"
   ]
  },
  {
   "attachments": {},
   "cell_type": "markdown",
   "id": "dcfd366c",
   "metadata": {},
   "source": [
    "On submission to Kaggle, It has:\n",
    "* Private score of 0.41477\n",
    "* Public score of 0.4494\n",
    "\n",
    "Which is a 11.5% improvement"
   ]
  },
  {
   "attachments": {},
   "cell_type": "markdown",
   "id": "da02cd43",
   "metadata": {},
   "source": [
    "Looking for more improvement in the performance of the model:"
   ]
  },
  {
   "attachments": {},
   "cell_type": "markdown",
   "id": "5ead808c",
   "metadata": {},
   "source": [
    "#### *Grid Search*"
   ]
  },
  {
   "cell_type": "code",
   "execution_count": null,
   "id": "fea4f09d",
   "metadata": {},
   "outputs": [],
   "source": [
    "from sklearn.model_selection import GridSearchCV\n",
    "from sklearn.neighbors import KNeighborsRegressor\n",
    "from sklearn.model_selection import RepeatedKFold"
   ]
  },
  {
   "cell_type": "code",
   "execution_count": null,
   "id": "9c0ce0e4",
   "metadata": {},
   "outputs": [],
   "source": [
    "# Number of trees in random forest\n",
    "n_estimators = [int(x) for x in np.linspace(start = 500, stop = 515, num = 1)]\n",
    "# Number of features to consider at every split\n",
    "max_features = ['auto', 'sqrt']\n",
    "# Maximum number of levels in tree\n",
    "max_depth = [int(x) for x in np.linspace(20, 40, num = 5)]\n",
    "max_depth.append(None)\n",
    "# Minimum number of samples required to split a node\n",
    "min_samples_split = [9,10,11]\n",
    "# Minimum number of samples required at each leaf node\n",
    "min_samples_leaf = [1,2,3,4]\n",
    "# Method of selecting samples for training each tree\n",
    "bootstrap = [True, False]\n",
    "# Create the random grid\n",
    "random_grid = {'n_estimators': n_estimators,\n",
    "               'max_features': max_features,\n",
    "               'max_depth': max_depth,\n",
    "               'min_samples_split': min_samples_split,\n",
    "               'min_samples_leaf': min_samples_leaf,\n",
    "               'bootstrap': bootstrap}"
   ]
  },
  {
   "cell_type": "code",
   "execution_count": null,
   "id": "72ffc019",
   "metadata": {},
   "outputs": [
    {
     "name": "stdout",
     "output_type": "stream",
     "text": [
      "Using Grid Search, the following are the best score and best hypeparameter values for elastic net regression model:\n",
      "\tBest parameters:  {'bootstrap': False, 'max_depth': 25, 'max_features': 'auto', 'min_samples_leaf': 2, 'min_samples_split': 11, 'n_estimators': 500}\n",
      "\t 0.685092902309101 :  0.8072222222222222\n"
     ]
    }
   ],
   "source": [
    "# define evaluation\n",
    "cv = RepeatedKFold(n_splits = 10, n_repeats = 3, random_state = 42)\n",
    "# creating an instance of GridSearchCV, KNN being the model type\n",
    "scores = 'accuracy'\n",
    "df_hyperparam = pd.DataFrame()\n",
    "\n",
    "grid_knn = GridSearchCV(RandomForestClassifier(), random_grid, scoring = scores, n_jobs = -1, cv = cv)\n",
    "# fitting the GridSearch model to the training data\n",
    "result = grid_knn.fit(X_train, y_train)\n",
    "# printing out the best parameter values\n",
    "print(\"Using Grid Search, the following are the best score and best hypeparameter values for elastic net regression model:\")\n",
    "print(\"\\tBest parameters: \",grid_knn.best_params_)\n",
    "print(\"\\t\",score, \": \", result.best_score_)"
   ]
  },
  {
   "cell_type": "code",
   "execution_count": null,
   "id": "0b7b567e",
   "metadata": {},
   "outputs": [
    {
     "data": {
      "text/plain": [
       "{'bootstrap': False,\n",
       " 'max_depth': 25,\n",
       " 'max_features': 'auto',\n",
       " 'min_samples_leaf': 2,\n",
       " 'min_samples_split': 11,\n",
       " 'n_estimators': 500}"
      ]
     },
     "metadata": {},
     "output_type": "display_data"
    }
   ],
   "source": [
    "grid_knn.best_params_"
   ]
  },
  {
   "cell_type": "code",
   "execution_count": null,
   "id": "b01fb8ea",
   "metadata": {},
   "outputs": [
    {
     "name": "stdout",
     "output_type": "stream",
     "text": [
      "submissions/Tuned submission No.1 - Random Forest.csv\n"
     ]
    },
    {
     "data": {
      "text/plain": [
       "2"
      ]
     },
     "metadata": {},
     "output_type": "display_data"
    }
   ],
   "source": [
    "model_name = \"Random Forest\"\n",
    "best_random = grid_knn.best_estimator_\n",
    "submission(best_random, model_name, df_test, count)"
   ]
  },
  {
   "attachments": {},
   "cell_type": "markdown",
   "id": "71a7f015",
   "metadata": {},
   "source": [
    "Kaggle Private Score = 0.42009\n",
    "\n",
    "This is a drop in performance compared with the random search output."
   ]
  },
  {
   "attachments": {},
   "cell_type": "markdown",
   "id": "b9488c87",
   "metadata": {},
   "source": [
    "### XGBoost"
   ]
  },
  {
   "cell_type": "code",
   "execution_count": null,
   "id": "5246d581",
   "metadata": {},
   "outputs": [],
   "source": [
    "import xgboost as xgb\n",
    "from hyperopt import STATUS_OK, Trials, fmin, hp, tpe"
   ]
  },
  {
   "cell_type": "code",
   "execution_count": null,
   "id": "d612dad5",
   "metadata": {},
   "outputs": [],
   "source": [
    "X_train, X_test, y_train, y_test = train_test_split(X, y, \n",
    "                                                        test_size = test_size, \n",
    "                                                        random_state = 42)"
   ]
  },
  {
   "attachments": {},
   "cell_type": "markdown",
   "id": "5d300834",
   "metadata": {},
   "source": [
    "##### *Bayesian Optimization with HYPEROPT*\n",
    "The optimization process consists of 4 parts which are as follows-\n",
    "\n",
    "1. Initialize domain space\n",
    "The domain space is the input values over which we want to search.\n",
    "\n",
    "2. Define objective function\n",
    "The objective function can be any function which returns a real value that we want to minimize. In this case, we want to minimize the validation error of a machine learning model with respect to the hyperparameters. If the real value is accuracy, then we want to maximize it. Then the function should return the negative of that metric.\n",
    "\n",
    "3. Optimization algorithm\n",
    "It is the method used to construct the surrogate objective function and choose the next values to evaluate.\n",
    "\n",
    "4. Results\n",
    "Results are score or value pairs that the algorithm uses to build the model."
   ]
  },
  {
   "cell_type": "code",
   "execution_count": null,
   "id": "89a84742",
   "metadata": {},
   "outputs": [],
   "source": [
    "# Initialize domain space for range of values\n",
    "space={'max_depth': hp.quniform(\"max_depth\", 3, 18, 1),\n",
    "        'gamma': hp.uniform ('gamma', 1,9),\n",
    "        'reg_alpha' : hp.quniform('reg_alpha', 40,180,1),\n",
    "        'reg_lambda' : hp.uniform('reg_lambda', 0,1),\n",
    "        'colsample_bytree' : hp.uniform('colsample_bytree', 0.5,1),\n",
    "        'min_child_weight' : hp.quniform('min_child_weight', 0, 10, 1),\n",
    "        'n_estimators': 507,\n",
    "        'seed': 0\n",
    "    }"
   ]
  },
  {
   "cell_type": "code",
   "execution_count": null,
   "id": "85edaada",
   "metadata": {},
   "outputs": [],
   "source": [
    "# Define objective function\n",
    "def objective(space):\n",
    "    clf=xgb.XGBClassifier(\n",
    "                n_estimators =space['n_estimators'], max_depth = int(space['max_depth']), gamma = space['gamma'],\n",
    "                reg_alpha = int(space['reg_alpha']),min_child_weight=int(space['min_child_weight']),\n",
    "                colsample_bytree=int(space['colsample_bytree']))\n",
    "\n",
    "    evaluation = [( X_train, y_train), ( X_test, y_test)]\n",
    "\n",
    "    clf.fit(X_train, y_train,\n",
    "        eval_set=evaluation, eval_metric=\"auc\",\n",
    "        early_stopping_rounds=10,verbose=False)\n",
    "\n",
    "    coeff, score = model_fit_pred(clf, X_train, y_train, X_test, y_test)\n",
    "    print (\"SCORE:\", score)\n",
    "    return {'loss': score, 'status': STATUS_OK }"
   ]
  },
  {
   "cell_type": "code",
   "execution_count": null,
   "id": "355c77af",
   "metadata": {},
   "outputs": [
    {
     "name": "stdout",
     "output_type": "stream",
     "text": [
      "SCORE:                                                 \n",
      "13.429353190576975                                     \n",
      "SCORE:                                                                           \n",
      "11.451733786447155                                                               \n",
      "SCORE:                                                                           \n",
      "11.819687713856956                                                               \n",
      "SCORE:                                                                           \n",
      "11.911706806130338                                                               \n",
      "SCORE:                                                                           \n",
      "14.165362192874435                                                               \n",
      "SCORE:                                                                           \n",
      "11.957699316902334                                                               \n",
      "SCORE:                                                                           \n",
      "11.635693182432219                                                               \n",
      "SCORE:                                                                           \n",
      "12.785557057826262                                                               \n",
      "SCORE:                                                                           \n",
      "19.91383512516155                                                                \n",
      "SCORE:                                                                           \n",
      "12.509598799063388                                                               \n",
      "SCORE:                                                                            \n",
      "11.773671779458507                                                                \n",
      "SCORE:                                                                            \n",
      "13.475475596004747                                                                \n",
      "SCORE:                                                                            \n",
      "12.04968327373604                                                                 \n",
      "SCORE:                                                                            \n",
      "11.86571110122746                                                                 \n",
      "SCORE:                                                                            \n",
      "13.429353190576975                                                                \n",
      "SCORE:                                                                            \n",
      "14.027386789979023                                                                \n",
      "SCORE:                                                                            \n",
      "11.68168675791451                                                                 \n",
      "SCORE:                                                                            \n",
      "12.6015508145883                                                                  \n",
      "SCORE:                                                                            \n",
      "12.509586022539871                                                                \n",
      "SCORE:                                                                            \n",
      "11.451736980578035                                                                \n",
      "SCORE:                                                                            \n",
      "11.451723139344221                                                                \n",
      "SCORE:                                                                            \n",
      "11.543701772626463                                                                \n",
      "SCORE:                                                                            \n",
      "12.003684374702281                                                                \n",
      "SCORE:                                                                            \n",
      "11.451729527605982                                                                \n",
      "SCORE:                                                                            \n",
      "11.313757318841452                                                                \n",
      "SCORE:                                                                            \n",
      "11.313761577682623                                                                \n",
      "SCORE:                                                                            \n",
      "12.04968327373604                                                                 \n",
      "SCORE:                                                                            \n",
      "11.681685693204217                                                                \n",
      "SCORE:                                                                            \n",
      "11.497716714826517                                                                \n",
      "SCORE:                                                                            \n",
      "11.635699570693978                                                                \n",
      "SCORE:                                                                            \n",
      "11.819660031389335                                                                \n",
      "SCORE:                                                                            \n",
      "11.819735625820153                                                                \n",
      "SCORE:                                                                            \n",
      "11.58969428339846                                                                 \n",
      "SCORE:                                                                            \n",
      "12.003691827674334                                                                \n",
      "SCORE:                                                                            \n",
      "12.04968327373604                                                                 \n",
      "SCORE:                                                                            \n",
      "11.037806513050633                                                                \n",
      "SCORE:                                                                            \n",
      "12.09570346697566                                                                 \n",
      "SCORE:                                                                            \n",
      "13.429353190576975                                                                \n",
      "SCORE:                                                                            \n",
      "11.451731657026569                                                                \n",
      "SCORE:                                                                            \n",
      "11.819686649146663                                                                \n",
      "SCORE:                                                                            \n",
      "10.945824685637515                                                                \n",
      "SCORE:                                                                            \n",
      "14.165362192874435                                                                \n",
      "SCORE:                                                                            \n",
      "11.497718844247103                                                                \n",
      "SCORE:                                                                            \n",
      "11.451730592316276                                                                \n",
      "SCORE:                                                                            \n",
      "11.773687750112904                                                                \n",
      "SCORE:                                                                            \n",
      "11.819686649146663                                                                \n",
      "SCORE:                                                                            \n",
      "12.60161150307501                                                                 \n",
      "SCORE:                                                                            \n",
      "11.451734851157449                                                                \n",
      "SCORE:                                                                            \n",
      "12.555577468601577                                                                \n",
      "SCORE:                                                                            \n",
      "11.405741275675156                                                                \n",
      "SCORE:                                                                            \n",
      "13.429353190576975                                                                \n",
      "SCORE:                                                                            \n",
      "11.86564508918928                                                                 \n",
      "SCORE:                                                                            \n",
      "12.233660769796089                                                                \n",
      "SCORE:                                                                            \n",
      "11.543712419729394                                                                \n",
      "SCORE:                                                                            \n",
      "12.463581799954648                                                                \n",
      "SCORE:                                                                            \n",
      "12.003696086515506                                                                \n",
      "SCORE:                                                                            \n",
      "11.681702728568908                                                                \n",
      "SCORE:                                                                            \n",
      "12.049649203006659                                                                \n",
      "SCORE:                                                                            \n",
      "11.31376051297233                                                                 \n",
      "SCORE:                                                                            \n",
      "14.027386789979023                                                                \n",
      "SCORE:                                                                            \n",
      "11.543719872701447                                                                \n",
      "SCORE:                                                                            \n",
      "13.429353190576975                                                                \n",
      "SCORE:                                                                            \n",
      "11.497710326564757                                                                \n",
      "SCORE:                                                                            \n",
      "11.40573595212369                                                                 \n",
      "SCORE:                                                                            \n",
      "12.463591382347285                                                                \n",
      "SCORE:                                                                            \n",
      "11.497717779536806                                                                \n",
      "SCORE:                                                                            \n",
      "11.451731657026569                                                                \n",
      "SCORE:                                                                            \n",
      "11.359750894323744                                                                \n",
      "SCORE:                                                                            \n",
      "11.451734851157449                                                                \n",
      "SCORE:                                                                            \n",
      "11.68167717552187                                                                 \n",
      "SCORE:                                                                            \n",
      "11.359748764903157                                                                \n",
      "SCORE:                                                                            \n",
      "11.63568785888075                                                                 \n",
      "SCORE:                                                                            \n",
      "11.497724167798568                                                                \n",
      "SCORE:                                                                            \n",
      "11.68169314617627                                                                 \n",
      "SCORE:                                                                            \n",
      "11.037806513050633                                                                \n",
      "SCORE:                                                                            \n",
      "11.359748764903157                                                                \n",
      "SCORE:                                                                            \n",
      "11.129793664015216                                                                \n",
      "SCORE:                                                                            \n",
      "11.865745171956842                                                                \n",
      "SCORE:                                                                            \n",
      "13.567469135231088                                                                \n",
      "SCORE:                                                                            \n",
      "11.819660031389335                                                                \n",
      "SCORE:                                                                            \n",
      "12.233622440225531                                                                \n",
      "SCORE:                                                                            \n",
      "11.681706987410081                                                                \n",
      "SCORE:                                                                            \n",
      "12.6015508145883                                                                  \n",
      "SCORE:                                                                            \n",
      "11.497719908957396                                                                \n",
      "SCORE:                                                                            \n",
      "12.27965434527838                                                                 \n",
      "SCORE:                                                                            \n",
      "11.451731657026569                                                                \n",
      "SCORE:                                                                            \n",
      "11.58970705992198                                                                 \n",
      "SCORE:                                                                            \n",
      "14.257344020287551                                                                \n",
      "SCORE:                                                                            \n",
      "12.417619101070857                                                                \n",
      "SCORE:                                                                            \n",
      "11.681679304942456                                                                \n",
      "SCORE:                                                                            \n",
      "11.267762678648866                                                                \n",
      "SCORE:                                                                            \n",
      "11.405743405095743                                                                \n",
      "SCORE:                                                                            \n",
      "11.589696412819047                                                                \n",
      "SCORE:                                                                            \n",
      "11.451728462895689                                                                \n",
      "SCORE:                                                                            \n",
      "11.865675965787782                                                                \n",
      "SCORE:                                                                            \n",
      "11.175787239497508                                                                \n",
      "SCORE:                                                                            \n",
      "14.027386789979023                                                                \n",
      "SCORE:                                                                            \n",
      "11.681688887335097                                                                \n",
      "SCORE:                                                                            \n",
      "12.371653208056188                                                                \n",
      "SCORE:                                                                            \n",
      "12.371655337476774                                                                \n",
      "100%|██████████| 100/100 [26:09<00:00, 15.70s/trial, best loss: 10.945824685637515]\n",
      "Time taken:  1569.879\n"
     ]
    }
   ],
   "source": [
    "# Optimization algorithm\n",
    "t_0 = timeit.default_timer()\n",
    "\n",
    "trials = Trials()\n",
    "best_hyperparams = fmin(fn = objective,\n",
    "                        space = space,\n",
    "                        algo = tpe.suggest,\n",
    "                        max_evals = 100,\n",
    "                        trials = trials)\n",
    "\n",
    "t_1 = timeit.default_timer()\n",
    "elapsed_time = round((t_1 - t_0) * 10 ** 6 / 1000000, 3)\n",
    "print(\"Time taken: \", elapsed_time)"
   ]
  },
  {
   "attachments": {},
   "cell_type": "markdown",
   "id": "75f48efe",
   "metadata": {},
   "source": [
    "As the scores are much worse than what we got from the RandomForest, we will proceed to deploy the randomforestclassifier model."
   ]
  },
  {
   "attachments": {},
   "cell_type": "markdown",
   "id": "a7bc18a3",
   "metadata": {},
   "source": [
    "## FEATURE IMPORTANCE"
   ]
  },
  {
   "cell_type": "code",
   "execution_count": null,
   "id": "9094b437",
   "metadata": {},
   "outputs": [
    {
     "data": {
      "text/plain": [
       "array([1.78838912e-03, 7.14778314e-03, 2.10288763e-03, ...,\n",
       "       3.86769899e-05, 5.66849532e-05, 2.28892040e-05])"
      ]
     },
     "metadata": {},
     "output_type": "display_data"
    }
   ],
   "source": [
    "best_random.feature_importances_"
   ]
  },
  {
   "cell_type": "code",
   "execution_count": null,
   "id": "80c746f8",
   "metadata": {},
   "outputs": [],
   "source": [
    "# creating a dataframe of the importance of features\n",
    "df_feat_importance = pd.DataFrame({\"Features\": df_test.columns, \"importance\": best_random.feature_importances_})\n",
    "# sorting in decreasing order based on column \"importance\"\n",
    "df_feat_importance = df_feat_importance.sort_values(by = \"importance\", ascending = False)\n",
    "df_feat_importance.head(10)\n",
    "df_feat_importance.to_csv(\"importantFeatures.csv\", index = False)"
   ]
  },
  {
   "cell_type": "code",
   "execution_count": null,
   "id": "36693a31",
   "metadata": {},
   "outputs": [
    {
     "data": {
      "text/plain": [
       "Text(0.5, 0, 'Random Forest Feature Importance')"
      ]
     },
     "metadata": {},
     "output_type": "display_data"
    },
    {
     "data": {
      "image/png": "[encoded data removed]",
      "text/plain": [
       "<Figure size 432x288 with 1 Axes>"
      ]
     },
     "metadata": {},
     "output_type": "display_data"
    }
   ],
   "source": [
    "plt.barh(df_feat_importance.Features[:10], df_feat_importance.importance[:10])\n",
    "plt.xlabel(\"Random Forest Feature Importance\")"
   ]
  },
  {
   "attachments": {},
   "cell_type": "markdown",
   "id": "c22c6358",
   "metadata": {},
   "source": [
    "##  DEPLOYMENT"
   ]
  },
  {
   "attachments": {},
   "cell_type": "markdown",
   "id": "f0b11e1d",
   "metadata": {},
   "source": [
    "### Pickling"
   ]
  },
  {
   "attachments": {},
   "cell_type": "markdown",
   "id": "2f7f7367",
   "metadata": {},
   "source": [
    "Pickle is a useful Python tool that allows you to save your ML models, to minimise lengthy re-training and allow you to share, commit, and re-load pre-trained machine learning models. Most data scientists working in ML will use Pickle or Joblib to save their ML model for future use."
   ]
  },
  {
   "cell_type": "code",
   "execution_count": null,
   "id": "8af34174",
   "metadata": {},
   "outputs": [],
   "source": [
    "import pickle"
   ]
  },
  {
   "cell_type": "code",
   "execution_count": null,
   "id": "1dd2abcd",
   "metadata": {},
   "outputs": [],
   "source": [
    "# pickling of best model\n",
    "rf = RandomForestClassifier(max_depth=30, max_features='auto', min_samples_leaf=2, n_estimators=507)\n",
    "rf.fit(X_train, y_train)\n",
    "#save model with pickle\n",
    "pickle.dump(rf, open('App/Data/rfmodel.pkl', 'wb'))"
   ]
  }
 ],
 "metadata": {
  "kernelspec": {
   "display_name": "Python 3",
   "language": "python",
   "name": "python3"
  },
  "language_info": {
   "codemirror_mode": {
    "name": "ipython",
    "version": 3
   },
   "file_extension": ".py",
   "mimetype": "text/x-python",
   "name": "python",
   "nbconvert_exporter": "python",
   "pygments_lexer": "ipython3",
   "version": "3.10.9 (tags/v3.10.9:1dd9be6, Dec  6 2022, 20:01:21) [MSC v.1934 64 bit (AMD64)]"
  },
  "vscode": {
   "interpreter": {
    "hash": "95d3caa551a8b4358b186b93fbfeac2b19d5004c1df92bbbf54d118721088f56"
   }
  }
 },
 "nbformat": 4,
 "nbformat_minor": 5
}
